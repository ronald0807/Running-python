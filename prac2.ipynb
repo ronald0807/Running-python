{
  "cells": [
    {
      "cell_type": "markdown",
      "metadata": {
        "id": "view-in-github",
        "colab_type": "text"
      },
      "source": [
        "<a href=\"https://colab.research.google.com/github/ronald0807/Running-python/blob/main/prac2.ipynb\" target=\"_parent\"><img src=\"https://colab.research.google.com/assets/colab-badge.svg\" alt=\"Open In Colab\"/></a>"
      ]
    },
    {
      "cell_type": "markdown",
      "metadata": {
        "id": "DwJfXeLYeZUv"
      },
      "source": [
        "# COMP2200/COMP6200 Prac 1\n",
        "\n",
        "_Authors: Greg Baker (greg.baker@mq.edu.au)_\n",
        "\n",
        "---\n",
        "\n",
        "The City of Baltimore publishes data about all of its employees, including their salaries. And these annual salaries can differ from their gross pay: Perhaps an employee works nightshift/overtime and earns more than their official salary; perhaps they are only employed for a part of the year and earn less.\n",
        "\n",
        "In this lab, we'll estimate what a typical city employee's gross pay will be based on their annual salary.\n",
        "\n",
        "Remember that to use a notebook, you need to run each cell. If left side of a cell says `[ ]`, it hasn't been run. If the left side\n",
        "says something like `[25]` then it has been. Shift-Enter runs a cell;  if you look around the user interface, various other menu items can run several cells in sequence."
      ]
    },
    {
      "cell_type": "markdown",
      "metadata": {
        "id": "zV2beCh-eZU0"
      },
      "source": [
        "**Note**\n",
        "\n",
        "This prac will cover a very complete data science lifecycle. Unfortunately, this requires some skills that we don't know yet. So there are some blocks of code that do things which we haven't explained yet. That's OK. We'll get there.\n",
        "\n",
        "Here are the steps we'll do:\n",
        "\n",
        "- Data Acquisition -- there will be a little of coding for you here\n",
        "\n",
        "- Data Cleaning and Preparation\n",
        "\n",
        "- Training -- there will be a little bit here for you to do as well\n",
        "\n",
        "- Validation -- lots to do here\n",
        "\n",
        "- Evaluation -- lots to do here"
      ]
    },
    {
      "cell_type": "markdown",
      "metadata": {
        "id": "5dJUFBfgeZU1"
      },
      "source": [
        "# Data Acquisition\n",
        "\n",
        "Don't worry too much about the following blocks of code. Over the next few weeks you'll get more comfortable with this, and you'll\n",
        "see that a lot of data science programming work is simple and easy-to-repeat.\n",
        "\n",
        "First up, let's load the libraries we need:"
      ]
    },
    {
      "cell_type": "code",
      "execution_count": 4,
      "metadata": {
        "id": "i1nd07txeZU2"
      },
      "outputs": [],
      "source": [
        "%matplotlib inline\n",
        "import pandas as pd\n",
        "import seaborn as sns\n",
        "import numpy as np\n",
        "import matplotlib.pyplot as plt\n",
        "import datetime as dt\n",
        "import sklearn.linear_model\n",
        "import sklearn.model_selection\n",
        "import sklearn.metrics"
      ]
    },
    {
      "cell_type": "markdown",
      "metadata": {
        "id": "KGV4LWk9eZU4"
      },
      "source": [
        "The Baltimore salaries data set is available in `Baltimore_City_Employee_Salaries_2011.csv`. This is a file and needs to be in the same directory as this notebook. Column 0 is the name of the employee and we'll use it as an index. Column 4 is a date. (Note that we count columns starting with \"0\").\n",
        "\n",
        "The pandas `read_csv` function reads it into a dataframe called `salaries`"
      ]
    },
    {
      "cell_type": "code",
      "execution_count": 5,
      "metadata": {
        "colab": {
          "base_uri": "https://localhost:8080/",
          "height": 231
        },
        "id": "kjqKjJCQeZU5",
        "outputId": "eb0056d8-ce07-4fc2-86f8-195bea924fd7"
      },
      "outputs": [
        {
          "output_type": "execute_result",
          "data": {
            "text/plain": [
              "                                         JobTitle AgencyID  \\\n",
              "Name                                                         \n",
              "Aaron,Patricia G    Facilities/Office Services II   A03031   \n",
              "Aaron,Petra L          ASSISTANT STATE'S ATTORNEY   A29005   \n",
              "Abaineh,Yohannes T                 EPIDEMIOLOGIST   A65026   \n",
              "Abdal-Rahim,Naim A                EMT Firefighter   A64063   \n",
              "Abdi,Ezekiel W                     POLICE OFFICER   A99398   \n",
              "\n",
              "                                     Agency   HireDate AnnualSalary   GrossPay  \n",
              "Name                                                                            \n",
              "Aaron,Patricia G         OED-Employment Dev 1979-10-24    $50845.00  $45505.94  \n",
              "Aaron,Petra L       States Attorneys Office 2006-09-25    $56595.00  $51588.89  \n",
              "Abaineh,Yohannes T   HLTH-Health Department 2009-07-23    $56500.00  $50633.26  \n",
              "Abdal-Rahim,Naim A    Fire Academy Recruits 2011-03-30    $33476.00   $3888.95  \n",
              "Abdi,Ezekiel W            Police Department 2007-06-14    $50919.00  $51421.73  "
            ],
            "text/html": [
              "\n",
              "  <div id=\"df-919a3b12-94bd-4aa0-ac3e-4b73d06f9bc6\" class=\"colab-df-container\">\n",
              "    <div>\n",
              "<style scoped>\n",
              "    .dataframe tbody tr th:only-of-type {\n",
              "        vertical-align: middle;\n",
              "    }\n",
              "\n",
              "    .dataframe tbody tr th {\n",
              "        vertical-align: top;\n",
              "    }\n",
              "\n",
              "    .dataframe thead th {\n",
              "        text-align: right;\n",
              "    }\n",
              "</style>\n",
              "<table border=\"1\" class=\"dataframe\">\n",
              "  <thead>\n",
              "    <tr style=\"text-align: right;\">\n",
              "      <th></th>\n",
              "      <th>JobTitle</th>\n",
              "      <th>AgencyID</th>\n",
              "      <th>Agency</th>\n",
              "      <th>HireDate</th>\n",
              "      <th>AnnualSalary</th>\n",
              "      <th>GrossPay</th>\n",
              "    </tr>\n",
              "    <tr>\n",
              "      <th>Name</th>\n",
              "      <th></th>\n",
              "      <th></th>\n",
              "      <th></th>\n",
              "      <th></th>\n",
              "      <th></th>\n",
              "      <th></th>\n",
              "    </tr>\n",
              "  </thead>\n",
              "  <tbody>\n",
              "    <tr>\n",
              "      <th>Aaron,Patricia G</th>\n",
              "      <td>Facilities/Office Services II</td>\n",
              "      <td>A03031</td>\n",
              "      <td>OED-Employment Dev</td>\n",
              "      <td>1979-10-24</td>\n",
              "      <td>$50845.00</td>\n",
              "      <td>$45505.94</td>\n",
              "    </tr>\n",
              "    <tr>\n",
              "      <th>Aaron,Petra L</th>\n",
              "      <td>ASSISTANT STATE'S ATTORNEY</td>\n",
              "      <td>A29005</td>\n",
              "      <td>States Attorneys Office</td>\n",
              "      <td>2006-09-25</td>\n",
              "      <td>$56595.00</td>\n",
              "      <td>$51588.89</td>\n",
              "    </tr>\n",
              "    <tr>\n",
              "      <th>Abaineh,Yohannes T</th>\n",
              "      <td>EPIDEMIOLOGIST</td>\n",
              "      <td>A65026</td>\n",
              "      <td>HLTH-Health Department</td>\n",
              "      <td>2009-07-23</td>\n",
              "      <td>$56500.00</td>\n",
              "      <td>$50633.26</td>\n",
              "    </tr>\n",
              "    <tr>\n",
              "      <th>Abdal-Rahim,Naim A</th>\n",
              "      <td>EMT Firefighter</td>\n",
              "      <td>A64063</td>\n",
              "      <td>Fire Academy Recruits</td>\n",
              "      <td>2011-03-30</td>\n",
              "      <td>$33476.00</td>\n",
              "      <td>$3888.95</td>\n",
              "    </tr>\n",
              "    <tr>\n",
              "      <th>Abdi,Ezekiel W</th>\n",
              "      <td>POLICE OFFICER</td>\n",
              "      <td>A99398</td>\n",
              "      <td>Police Department</td>\n",
              "      <td>2007-06-14</td>\n",
              "      <td>$50919.00</td>\n",
              "      <td>$51421.73</td>\n",
              "    </tr>\n",
              "  </tbody>\n",
              "</table>\n",
              "</div>\n",
              "    <div class=\"colab-df-buttons\">\n",
              "\n",
              "  <div class=\"colab-df-container\">\n",
              "    <button class=\"colab-df-convert\" onclick=\"convertToInteractive('df-919a3b12-94bd-4aa0-ac3e-4b73d06f9bc6')\"\n",
              "            title=\"Convert this dataframe to an interactive table.\"\n",
              "            style=\"display:none;\">\n",
              "\n",
              "  <svg xmlns=\"http://www.w3.org/2000/svg\" height=\"24px\" viewBox=\"0 -960 960 960\">\n",
              "    <path d=\"M120-120v-720h720v720H120Zm60-500h600v-160H180v160Zm220 220h160v-160H400v160Zm0 220h160v-160H400v160ZM180-400h160v-160H180v160Zm440 0h160v-160H620v160ZM180-180h160v-160H180v160Zm440 0h160v-160H620v160Z\"/>\n",
              "  </svg>\n",
              "    </button>\n",
              "\n",
              "  <style>\n",
              "    .colab-df-container {\n",
              "      display:flex;\n",
              "      gap: 12px;\n",
              "    }\n",
              "\n",
              "    .colab-df-convert {\n",
              "      background-color: #E8F0FE;\n",
              "      border: none;\n",
              "      border-radius: 50%;\n",
              "      cursor: pointer;\n",
              "      display: none;\n",
              "      fill: #1967D2;\n",
              "      height: 32px;\n",
              "      padding: 0 0 0 0;\n",
              "      width: 32px;\n",
              "    }\n",
              "\n",
              "    .colab-df-convert:hover {\n",
              "      background-color: #E2EBFA;\n",
              "      box-shadow: 0px 1px 2px rgba(60, 64, 67, 0.3), 0px 1px 3px 1px rgba(60, 64, 67, 0.15);\n",
              "      fill: #174EA6;\n",
              "    }\n",
              "\n",
              "    .colab-df-buttons div {\n",
              "      margin-bottom: 4px;\n",
              "    }\n",
              "\n",
              "    [theme=dark] .colab-df-convert {\n",
              "      background-color: #3B4455;\n",
              "      fill: #D2E3FC;\n",
              "    }\n",
              "\n",
              "    [theme=dark] .colab-df-convert:hover {\n",
              "      background-color: #434B5C;\n",
              "      box-shadow: 0px 1px 3px 1px rgba(0, 0, 0, 0.15);\n",
              "      filter: drop-shadow(0px 1px 2px rgba(0, 0, 0, 0.3));\n",
              "      fill: #FFFFFF;\n",
              "    }\n",
              "  </style>\n",
              "\n",
              "    <script>\n",
              "      const buttonEl =\n",
              "        document.querySelector('#df-919a3b12-94bd-4aa0-ac3e-4b73d06f9bc6 button.colab-df-convert');\n",
              "      buttonEl.style.display =\n",
              "        google.colab.kernel.accessAllowed ? 'block' : 'none';\n",
              "\n",
              "      async function convertToInteractive(key) {\n",
              "        const element = document.querySelector('#df-919a3b12-94bd-4aa0-ac3e-4b73d06f9bc6');\n",
              "        const dataTable =\n",
              "          await google.colab.kernel.invokeFunction('convertToInteractive',\n",
              "                                                    [key], {});\n",
              "        if (!dataTable) return;\n",
              "\n",
              "        const docLinkHtml = 'Like what you see? Visit the ' +\n",
              "          '<a target=\"_blank\" href=https://colab.research.google.com/notebooks/data_table.ipynb>data table notebook</a>'\n",
              "          + ' to learn more about interactive tables.';\n",
              "        element.innerHTML = '';\n",
              "        dataTable['output_type'] = 'display_data';\n",
              "        await google.colab.output.renderOutput(dataTable, element);\n",
              "        const docLink = document.createElement('div');\n",
              "        docLink.innerHTML = docLinkHtml;\n",
              "        element.appendChild(docLink);\n",
              "      }\n",
              "    </script>\n",
              "  </div>\n",
              "\n",
              "\n",
              "<div id=\"df-7c8e8b44-853c-4385-b540-72639dcb06a8\">\n",
              "  <button class=\"colab-df-quickchart\" onclick=\"quickchart('df-7c8e8b44-853c-4385-b540-72639dcb06a8')\"\n",
              "            title=\"Suggest charts\"\n",
              "            style=\"display:none;\">\n",
              "\n",
              "<svg xmlns=\"http://www.w3.org/2000/svg\" height=\"24px\"viewBox=\"0 0 24 24\"\n",
              "     width=\"24px\">\n",
              "    <g>\n",
              "        <path d=\"M19 3H5c-1.1 0-2 .9-2 2v14c0 1.1.9 2 2 2h14c1.1 0 2-.9 2-2V5c0-1.1-.9-2-2-2zM9 17H7v-7h2v7zm4 0h-2V7h2v10zm4 0h-2v-4h2v4z\"/>\n",
              "    </g>\n",
              "</svg>\n",
              "  </button>\n",
              "\n",
              "<style>\n",
              "  .colab-df-quickchart {\n",
              "      --bg-color: #E8F0FE;\n",
              "      --fill-color: #1967D2;\n",
              "      --hover-bg-color: #E2EBFA;\n",
              "      --hover-fill-color: #174EA6;\n",
              "      --disabled-fill-color: #AAA;\n",
              "      --disabled-bg-color: #DDD;\n",
              "  }\n",
              "\n",
              "  [theme=dark] .colab-df-quickchart {\n",
              "      --bg-color: #3B4455;\n",
              "      --fill-color: #D2E3FC;\n",
              "      --hover-bg-color: #434B5C;\n",
              "      --hover-fill-color: #FFFFFF;\n",
              "      --disabled-bg-color: #3B4455;\n",
              "      --disabled-fill-color: #666;\n",
              "  }\n",
              "\n",
              "  .colab-df-quickchart {\n",
              "    background-color: var(--bg-color);\n",
              "    border: none;\n",
              "    border-radius: 50%;\n",
              "    cursor: pointer;\n",
              "    display: none;\n",
              "    fill: var(--fill-color);\n",
              "    height: 32px;\n",
              "    padding: 0;\n",
              "    width: 32px;\n",
              "  }\n",
              "\n",
              "  .colab-df-quickchart:hover {\n",
              "    background-color: var(--hover-bg-color);\n",
              "    box-shadow: 0 1px 2px rgba(60, 64, 67, 0.3), 0 1px 3px 1px rgba(60, 64, 67, 0.15);\n",
              "    fill: var(--button-hover-fill-color);\n",
              "  }\n",
              "\n",
              "  .colab-df-quickchart-complete:disabled,\n",
              "  .colab-df-quickchart-complete:disabled:hover {\n",
              "    background-color: var(--disabled-bg-color);\n",
              "    fill: var(--disabled-fill-color);\n",
              "    box-shadow: none;\n",
              "  }\n",
              "\n",
              "  .colab-df-spinner {\n",
              "    border: 2px solid var(--fill-color);\n",
              "    border-color: transparent;\n",
              "    border-bottom-color: var(--fill-color);\n",
              "    animation:\n",
              "      spin 1s steps(1) infinite;\n",
              "  }\n",
              "\n",
              "  @keyframes spin {\n",
              "    0% {\n",
              "      border-color: transparent;\n",
              "      border-bottom-color: var(--fill-color);\n",
              "      border-left-color: var(--fill-color);\n",
              "    }\n",
              "    20% {\n",
              "      border-color: transparent;\n",
              "      border-left-color: var(--fill-color);\n",
              "      border-top-color: var(--fill-color);\n",
              "    }\n",
              "    30% {\n",
              "      border-color: transparent;\n",
              "      border-left-color: var(--fill-color);\n",
              "      border-top-color: var(--fill-color);\n",
              "      border-right-color: var(--fill-color);\n",
              "    }\n",
              "    40% {\n",
              "      border-color: transparent;\n",
              "      border-right-color: var(--fill-color);\n",
              "      border-top-color: var(--fill-color);\n",
              "    }\n",
              "    60% {\n",
              "      border-color: transparent;\n",
              "      border-right-color: var(--fill-color);\n",
              "    }\n",
              "    80% {\n",
              "      border-color: transparent;\n",
              "      border-right-color: var(--fill-color);\n",
              "      border-bottom-color: var(--fill-color);\n",
              "    }\n",
              "    90% {\n",
              "      border-color: transparent;\n",
              "      border-bottom-color: var(--fill-color);\n",
              "    }\n",
              "  }\n",
              "</style>\n",
              "\n",
              "  <script>\n",
              "    async function quickchart(key) {\n",
              "      const quickchartButtonEl =\n",
              "        document.querySelector('#' + key + ' button');\n",
              "      quickchartButtonEl.disabled = true;  // To prevent multiple clicks.\n",
              "      quickchartButtonEl.classList.add('colab-df-spinner');\n",
              "      try {\n",
              "        const charts = await google.colab.kernel.invokeFunction(\n",
              "            'suggestCharts', [key], {});\n",
              "      } catch (error) {\n",
              "        console.error('Error during call to suggestCharts:', error);\n",
              "      }\n",
              "      quickchartButtonEl.classList.remove('colab-df-spinner');\n",
              "      quickchartButtonEl.classList.add('colab-df-quickchart-complete');\n",
              "    }\n",
              "    (() => {\n",
              "      let quickchartButtonEl =\n",
              "        document.querySelector('#df-7c8e8b44-853c-4385-b540-72639dcb06a8 button');\n",
              "      quickchartButtonEl.style.display =\n",
              "        google.colab.kernel.accessAllowed ? 'block' : 'none';\n",
              "    })();\n",
              "  </script>\n",
              "</div>\n",
              "\n",
              "    </div>\n",
              "  </div>\n"
            ],
            "application/vnd.google.colaboratory.intrinsic+json": {
              "type": "dataframe",
              "variable_name": "salaries",
              "summary": "{\n  \"name\": \"salaries\",\n  \"rows\": 14454,\n  \"fields\": [\n    {\n      \"column\": \"Name\",\n      \"properties\": {\n        \"dtype\": \"string\",\n        \"num_unique_values\": 14402,\n        \"samples\": [\n          \"Pope,Joshua D\",\n          \"Zoppo,Catherine B\",\n          \"Ricks,Nelson D\"\n        ],\n        \"semantic_type\": \"\",\n        \"description\": \"\"\n      }\n    },\n    {\n      \"column\": \"JobTitle\",\n      \"properties\": {\n        \"dtype\": \"category\",\n        \"num_unique_values\": 1042,\n        \"samples\": [\n          \"TRANSPORTATION ASSOC II\",\n          \"PARK DISTRICT MANAGER\",\n          \"LEGISLATIVE FISCAL ANALYST\"\n        ],\n        \"semantic_type\": \"\",\n        \"description\": \"\"\n      }\n    },\n    {\n      \"column\": \"AgencyID\",\n      \"properties\": {\n        \"dtype\": \"category\",\n        \"num_unique_values\": 698,\n        \"samples\": [\n          \"W07900\",\n          \"A02003\",\n          \"A67010\"\n        ],\n        \"semantic_type\": \"\",\n        \"description\": \"\"\n      }\n    },\n    {\n      \"column\": \"Agency\",\n      \"properties\": {\n        \"dtype\": \"category\",\n        \"num_unique_values\": 57,\n        \"samples\": [\n          \"OED-Employment Dev\",\n          \"Liquor License Board\",\n          \"TRANS-Towing\"\n        ],\n        \"semantic_type\": \"\",\n        \"description\": \"\"\n      }\n    },\n    {\n      \"column\": \"HireDate\",\n      \"properties\": {\n        \"dtype\": \"date\",\n        \"min\": \"1952-06-23 00:00:00\",\n        \"max\": \"2011-05-10 00:00:00\",\n        \"num_unique_values\": 4694,\n        \"samples\": [\n          \"1988-06-21 00:00:00\",\n          \"1995-08-31 00:00:00\",\n          \"1988-03-03 00:00:00\"\n        ],\n        \"semantic_type\": \"\",\n        \"description\": \"\"\n      }\n    },\n    {\n      \"column\": \"AnnualSalary\",\n      \"properties\": {\n        \"dtype\": \"category\",\n        \"num_unique_values\": 1565,\n        \"samples\": [\n          \"$108640.00\",\n          \"$39931.00\",\n          \"$89900.00\"\n        ],\n        \"semantic_type\": \"\",\n        \"description\": \"\"\n      }\n    },\n    {\n      \"column\": \"GrossPay\",\n      \"properties\": {\n        \"dtype\": \"string\",\n        \"num_unique_values\": 13970,\n        \"samples\": [\n          \"$40391.19\",\n          \"$25830.67\",\n          \"$36329.48\"\n        ],\n        \"semantic_type\": \"\",\n        \"description\": \"\"\n      }\n    }\n  ]\n}"
            }
          },
          "metadata": {},
          "execution_count": 5
        }
      ],
      "source": [
        "salaries = pd.read_csv('Baltimore_City_Employee_Salaries_2011.csv',\n",
        "                       index_col=0,\n",
        "                      parse_dates=[4])\n",
        "salaries.head()"
      ]
    },
    {
      "cell_type": "markdown",
      "metadata": {
        "id": "8hH-GDy0eZU5"
      },
      "source": [
        "## Your Turn....\n",
        "\n",
        "Last week you learned about the `.tail()` method to see the last few rows in a database. Use that now to look at\n",
        "the end of the `salaries` dataframe."
      ]
    },
    {
      "cell_type": "code",
      "execution_count": 6,
      "metadata": {
        "colab": {
          "base_uri": "https://localhost:8080/",
          "height": 231
        },
        "id": "GnlEy27peZU5",
        "outputId": "e569af0e-7a3c-4949-c8aa-da6c88c03cea"
      },
      "outputs": [
        {
          "output_type": "execute_result",
          "data": {
            "text/plain": [
              "                                       JobTitle AgencyID  \\\n",
              "Name                                                       \n",
              "Lewis,Awanda S   SCHOOL HEALTH AIDE (10 MONTHS)   A65104   \n",
              "Lewis,Bernard T              FIRE PUMP OPERATOR   A64120   \n",
              "Lewis,Brian C                    POLICE OFFICER   A99322   \n",
              "Lewis,Capri T                 JTPA TRAINEE MOMR   W03T19   \n",
              "Lewis,Carlos E                     CARPENTER II   A50212   \n",
              "\n",
              "                                  Agency   HireDate AnnualSalary   GrossPay  \n",
              "Name                                                                         \n",
              "Lewis,Awanda S    HLTH-Health Department 2006-07-01    $23395.00  $21746.79  \n",
              "Lewis,Bernard T          Fire Department 1990-03-26    $61653.00  $59866.23  \n",
              "Lewis,Brian C          Police Department 1998-04-20    $61672.00  $84219.58  \n",
              "Lewis,Capri T                 Youth Cust 2009-06-11    $15080.00   $1881.38  \n",
              "Lewis,Carlos E   DPW-Water & Waste Water 1993-08-02    $34643.00  $29709.64  "
            ],
            "text/html": [
              "\n",
              "  <div id=\"df-cdc7fd66-9888-4d8b-adfb-1a1de8189451\" class=\"colab-df-container\">\n",
              "    <div>\n",
              "<style scoped>\n",
              "    .dataframe tbody tr th:only-of-type {\n",
              "        vertical-align: middle;\n",
              "    }\n",
              "\n",
              "    .dataframe tbody tr th {\n",
              "        vertical-align: top;\n",
              "    }\n",
              "\n",
              "    .dataframe thead th {\n",
              "        text-align: right;\n",
              "    }\n",
              "</style>\n",
              "<table border=\"1\" class=\"dataframe\">\n",
              "  <thead>\n",
              "    <tr style=\"text-align: right;\">\n",
              "      <th></th>\n",
              "      <th>JobTitle</th>\n",
              "      <th>AgencyID</th>\n",
              "      <th>Agency</th>\n",
              "      <th>HireDate</th>\n",
              "      <th>AnnualSalary</th>\n",
              "      <th>GrossPay</th>\n",
              "    </tr>\n",
              "    <tr>\n",
              "      <th>Name</th>\n",
              "      <th></th>\n",
              "      <th></th>\n",
              "      <th></th>\n",
              "      <th></th>\n",
              "      <th></th>\n",
              "      <th></th>\n",
              "    </tr>\n",
              "  </thead>\n",
              "  <tbody>\n",
              "    <tr>\n",
              "      <th>Lewis,Awanda S</th>\n",
              "      <td>SCHOOL HEALTH AIDE (10 MONTHS)</td>\n",
              "      <td>A65104</td>\n",
              "      <td>HLTH-Health Department</td>\n",
              "      <td>2006-07-01</td>\n",
              "      <td>$23395.00</td>\n",
              "      <td>$21746.79</td>\n",
              "    </tr>\n",
              "    <tr>\n",
              "      <th>Lewis,Bernard T</th>\n",
              "      <td>FIRE PUMP OPERATOR</td>\n",
              "      <td>A64120</td>\n",
              "      <td>Fire Department</td>\n",
              "      <td>1990-03-26</td>\n",
              "      <td>$61653.00</td>\n",
              "      <td>$59866.23</td>\n",
              "    </tr>\n",
              "    <tr>\n",
              "      <th>Lewis,Brian C</th>\n",
              "      <td>POLICE OFFICER</td>\n",
              "      <td>A99322</td>\n",
              "      <td>Police Department</td>\n",
              "      <td>1998-04-20</td>\n",
              "      <td>$61672.00</td>\n",
              "      <td>$84219.58</td>\n",
              "    </tr>\n",
              "    <tr>\n",
              "      <th>Lewis,Capri T</th>\n",
              "      <td>JTPA TRAINEE MOMR</td>\n",
              "      <td>W03T19</td>\n",
              "      <td>Youth Cust</td>\n",
              "      <td>2009-06-11</td>\n",
              "      <td>$15080.00</td>\n",
              "      <td>$1881.38</td>\n",
              "    </tr>\n",
              "    <tr>\n",
              "      <th>Lewis,Carlos E</th>\n",
              "      <td>CARPENTER II</td>\n",
              "      <td>A50212</td>\n",
              "      <td>DPW-Water &amp; Waste Water</td>\n",
              "      <td>1993-08-02</td>\n",
              "      <td>$34643.00</td>\n",
              "      <td>$29709.64</td>\n",
              "    </tr>\n",
              "  </tbody>\n",
              "</table>\n",
              "</div>\n",
              "    <div class=\"colab-df-buttons\">\n",
              "\n",
              "  <div class=\"colab-df-container\">\n",
              "    <button class=\"colab-df-convert\" onclick=\"convertToInteractive('df-cdc7fd66-9888-4d8b-adfb-1a1de8189451')\"\n",
              "            title=\"Convert this dataframe to an interactive table.\"\n",
              "            style=\"display:none;\">\n",
              "\n",
              "  <svg xmlns=\"http://www.w3.org/2000/svg\" height=\"24px\" viewBox=\"0 -960 960 960\">\n",
              "    <path d=\"M120-120v-720h720v720H120Zm60-500h600v-160H180v160Zm220 220h160v-160H400v160Zm0 220h160v-160H400v160ZM180-400h160v-160H180v160Zm440 0h160v-160H620v160ZM180-180h160v-160H180v160Zm440 0h160v-160H620v160Z\"/>\n",
              "  </svg>\n",
              "    </button>\n",
              "\n",
              "  <style>\n",
              "    .colab-df-container {\n",
              "      display:flex;\n",
              "      gap: 12px;\n",
              "    }\n",
              "\n",
              "    .colab-df-convert {\n",
              "      background-color: #E8F0FE;\n",
              "      border: none;\n",
              "      border-radius: 50%;\n",
              "      cursor: pointer;\n",
              "      display: none;\n",
              "      fill: #1967D2;\n",
              "      height: 32px;\n",
              "      padding: 0 0 0 0;\n",
              "      width: 32px;\n",
              "    }\n",
              "\n",
              "    .colab-df-convert:hover {\n",
              "      background-color: #E2EBFA;\n",
              "      box-shadow: 0px 1px 2px rgba(60, 64, 67, 0.3), 0px 1px 3px 1px rgba(60, 64, 67, 0.15);\n",
              "      fill: #174EA6;\n",
              "    }\n",
              "\n",
              "    .colab-df-buttons div {\n",
              "      margin-bottom: 4px;\n",
              "    }\n",
              "\n",
              "    [theme=dark] .colab-df-convert {\n",
              "      background-color: #3B4455;\n",
              "      fill: #D2E3FC;\n",
              "    }\n",
              "\n",
              "    [theme=dark] .colab-df-convert:hover {\n",
              "      background-color: #434B5C;\n",
              "      box-shadow: 0px 1px 3px 1px rgba(0, 0, 0, 0.15);\n",
              "      filter: drop-shadow(0px 1px 2px rgba(0, 0, 0, 0.3));\n",
              "      fill: #FFFFFF;\n",
              "    }\n",
              "  </style>\n",
              "\n",
              "    <script>\n",
              "      const buttonEl =\n",
              "        document.querySelector('#df-cdc7fd66-9888-4d8b-adfb-1a1de8189451 button.colab-df-convert');\n",
              "      buttonEl.style.display =\n",
              "        google.colab.kernel.accessAllowed ? 'block' : 'none';\n",
              "\n",
              "      async function convertToInteractive(key) {\n",
              "        const element = document.querySelector('#df-cdc7fd66-9888-4d8b-adfb-1a1de8189451');\n",
              "        const dataTable =\n",
              "          await google.colab.kernel.invokeFunction('convertToInteractive',\n",
              "                                                    [key], {});\n",
              "        if (!dataTable) return;\n",
              "\n",
              "        const docLinkHtml = 'Like what you see? Visit the ' +\n",
              "          '<a target=\"_blank\" href=https://colab.research.google.com/notebooks/data_table.ipynb>data table notebook</a>'\n",
              "          + ' to learn more about interactive tables.';\n",
              "        element.innerHTML = '';\n",
              "        dataTable['output_type'] = 'display_data';\n",
              "        await google.colab.output.renderOutput(dataTable, element);\n",
              "        const docLink = document.createElement('div');\n",
              "        docLink.innerHTML = docLinkHtml;\n",
              "        element.appendChild(docLink);\n",
              "      }\n",
              "    </script>\n",
              "  </div>\n",
              "\n",
              "\n",
              "<div id=\"df-204c7a93-16eb-4fa0-adf3-07689a5223e0\">\n",
              "  <button class=\"colab-df-quickchart\" onclick=\"quickchart('df-204c7a93-16eb-4fa0-adf3-07689a5223e0')\"\n",
              "            title=\"Suggest charts\"\n",
              "            style=\"display:none;\">\n",
              "\n",
              "<svg xmlns=\"http://www.w3.org/2000/svg\" height=\"24px\"viewBox=\"0 0 24 24\"\n",
              "     width=\"24px\">\n",
              "    <g>\n",
              "        <path d=\"M19 3H5c-1.1 0-2 .9-2 2v14c0 1.1.9 2 2 2h14c1.1 0 2-.9 2-2V5c0-1.1-.9-2-2-2zM9 17H7v-7h2v7zm4 0h-2V7h2v10zm4 0h-2v-4h2v4z\"/>\n",
              "    </g>\n",
              "</svg>\n",
              "  </button>\n",
              "\n",
              "<style>\n",
              "  .colab-df-quickchart {\n",
              "      --bg-color: #E8F0FE;\n",
              "      --fill-color: #1967D2;\n",
              "      --hover-bg-color: #E2EBFA;\n",
              "      --hover-fill-color: #174EA6;\n",
              "      --disabled-fill-color: #AAA;\n",
              "      --disabled-bg-color: #DDD;\n",
              "  }\n",
              "\n",
              "  [theme=dark] .colab-df-quickchart {\n",
              "      --bg-color: #3B4455;\n",
              "      --fill-color: #D2E3FC;\n",
              "      --hover-bg-color: #434B5C;\n",
              "      --hover-fill-color: #FFFFFF;\n",
              "      --disabled-bg-color: #3B4455;\n",
              "      --disabled-fill-color: #666;\n",
              "  }\n",
              "\n",
              "  .colab-df-quickchart {\n",
              "    background-color: var(--bg-color);\n",
              "    border: none;\n",
              "    border-radius: 50%;\n",
              "    cursor: pointer;\n",
              "    display: none;\n",
              "    fill: var(--fill-color);\n",
              "    height: 32px;\n",
              "    padding: 0;\n",
              "    width: 32px;\n",
              "  }\n",
              "\n",
              "  .colab-df-quickchart:hover {\n",
              "    background-color: var(--hover-bg-color);\n",
              "    box-shadow: 0 1px 2px rgba(60, 64, 67, 0.3), 0 1px 3px 1px rgba(60, 64, 67, 0.15);\n",
              "    fill: var(--button-hover-fill-color);\n",
              "  }\n",
              "\n",
              "  .colab-df-quickchart-complete:disabled,\n",
              "  .colab-df-quickchart-complete:disabled:hover {\n",
              "    background-color: var(--disabled-bg-color);\n",
              "    fill: var(--disabled-fill-color);\n",
              "    box-shadow: none;\n",
              "  }\n",
              "\n",
              "  .colab-df-spinner {\n",
              "    border: 2px solid var(--fill-color);\n",
              "    border-color: transparent;\n",
              "    border-bottom-color: var(--fill-color);\n",
              "    animation:\n",
              "      spin 1s steps(1) infinite;\n",
              "  }\n",
              "\n",
              "  @keyframes spin {\n",
              "    0% {\n",
              "      border-color: transparent;\n",
              "      border-bottom-color: var(--fill-color);\n",
              "      border-left-color: var(--fill-color);\n",
              "    }\n",
              "    20% {\n",
              "      border-color: transparent;\n",
              "      border-left-color: var(--fill-color);\n",
              "      border-top-color: var(--fill-color);\n",
              "    }\n",
              "    30% {\n",
              "      border-color: transparent;\n",
              "      border-left-color: var(--fill-color);\n",
              "      border-top-color: var(--fill-color);\n",
              "      border-right-color: var(--fill-color);\n",
              "    }\n",
              "    40% {\n",
              "      border-color: transparent;\n",
              "      border-right-color: var(--fill-color);\n",
              "      border-top-color: var(--fill-color);\n",
              "    }\n",
              "    60% {\n",
              "      border-color: transparent;\n",
              "      border-right-color: var(--fill-color);\n",
              "    }\n",
              "    80% {\n",
              "      border-color: transparent;\n",
              "      border-right-color: var(--fill-color);\n",
              "      border-bottom-color: var(--fill-color);\n",
              "    }\n",
              "    90% {\n",
              "      border-color: transparent;\n",
              "      border-bottom-color: var(--fill-color);\n",
              "    }\n",
              "  }\n",
              "</style>\n",
              "\n",
              "  <script>\n",
              "    async function quickchart(key) {\n",
              "      const quickchartButtonEl =\n",
              "        document.querySelector('#' + key + ' button');\n",
              "      quickchartButtonEl.disabled = true;  // To prevent multiple clicks.\n",
              "      quickchartButtonEl.classList.add('colab-df-spinner');\n",
              "      try {\n",
              "        const charts = await google.colab.kernel.invokeFunction(\n",
              "            'suggestCharts', [key], {});\n",
              "      } catch (error) {\n",
              "        console.error('Error during call to suggestCharts:', error);\n",
              "      }\n",
              "      quickchartButtonEl.classList.remove('colab-df-spinner');\n",
              "      quickchartButtonEl.classList.add('colab-df-quickchart-complete');\n",
              "    }\n",
              "    (() => {\n",
              "      let quickchartButtonEl =\n",
              "        document.querySelector('#df-204c7a93-16eb-4fa0-adf3-07689a5223e0 button');\n",
              "      quickchartButtonEl.style.display =\n",
              "        google.colab.kernel.accessAllowed ? 'block' : 'none';\n",
              "    })();\n",
              "  </script>\n",
              "</div>\n",
              "\n",
              "    </div>\n",
              "  </div>\n"
            ],
            "application/vnd.google.colaboratory.intrinsic+json": {
              "type": "dataframe",
              "summary": "{\n  \"name\": \"salaries\",\n  \"rows\": 5,\n  \"fields\": [\n    {\n      \"column\": \"Name\",\n      \"properties\": {\n        \"dtype\": \"string\",\n        \"num_unique_values\": 5,\n        \"samples\": [\n          \"Lewis,Bernard T\",\n          \"Lewis,Carlos E\",\n          \"Lewis,Brian C\"\n        ],\n        \"semantic_type\": \"\",\n        \"description\": \"\"\n      }\n    },\n    {\n      \"column\": \"JobTitle\",\n      \"properties\": {\n        \"dtype\": \"string\",\n        \"num_unique_values\": 5,\n        \"samples\": [\n          \"FIRE PUMP OPERATOR\",\n          \"CARPENTER II\",\n          \"POLICE OFFICER\"\n        ],\n        \"semantic_type\": \"\",\n        \"description\": \"\"\n      }\n    },\n    {\n      \"column\": \"AgencyID\",\n      \"properties\": {\n        \"dtype\": \"string\",\n        \"num_unique_values\": 5,\n        \"samples\": [\n          \"A64120\",\n          \"A50212\",\n          \"A99322\"\n        ],\n        \"semantic_type\": \"\",\n        \"description\": \"\"\n      }\n    },\n    {\n      \"column\": \"Agency\",\n      \"properties\": {\n        \"dtype\": \"string\",\n        \"num_unique_values\": 5,\n        \"samples\": [\n          \"Fire Department\",\n          \"DPW-Water & Waste Water\",\n          \"Police Department\"\n        ],\n        \"semantic_type\": \"\",\n        \"description\": \"\"\n      }\n    },\n    {\n      \"column\": \"HireDate\",\n      \"properties\": {\n        \"dtype\": \"date\",\n        \"min\": \"1990-03-26 00:00:00\",\n        \"max\": \"2009-06-11 00:00:00\",\n        \"num_unique_values\": 5,\n        \"samples\": [\n          \"1990-03-26 00:00:00\",\n          \"1993-08-02 00:00:00\",\n          \"1998-04-20 00:00:00\"\n        ],\n        \"semantic_type\": \"\",\n        \"description\": \"\"\n      }\n    },\n    {\n      \"column\": \"AnnualSalary\",\n      \"properties\": {\n        \"dtype\": \"string\",\n        \"num_unique_values\": 5,\n        \"samples\": [\n          \"$61653.00\",\n          \"$34643.00\",\n          \"$61672.00\"\n        ],\n        \"semantic_type\": \"\",\n        \"description\": \"\"\n      }\n    },\n    {\n      \"column\": \"GrossPay\",\n      \"properties\": {\n        \"dtype\": \"string\",\n        \"num_unique_values\": 5,\n        \"samples\": [\n          \"$59866.23\",\n          \"$29709.64\",\n          \"$84219.58\"\n        ],\n        \"semantic_type\": \"\",\n        \"description\": \"\"\n      }\n    }\n  ]\n}"
            }
          },
          "metadata": {},
          "execution_count": 6
        }
      ],
      "source": [
        "salaries.tail()"
      ]
    },
    {
      "cell_type": "markdown",
      "metadata": {
        "id": "p5TxRiIueZU6"
      },
      "source": [
        "You can also use `.sample(5)` to get 5 random rows from the `salaries` dataframe."
      ]
    },
    {
      "cell_type": "code",
      "execution_count": 7,
      "metadata": {
        "colab": {
          "base_uri": "https://localhost:8080/",
          "height": 231
        },
        "id": "BudPG956eZU6",
        "outputId": "d1849908-fb75-45db-953a-f98990cc5db2"
      },
      "outputs": [
        {
          "output_type": "execute_result",
          "data": {
            "text/plain": [
              "                                          JobTitle AgencyID  \\\n",
              "Name                                                          \n",
              "Fields,Nathan E      COMMUNITY HEALTH EDUCATOR III   A65026   \n",
              "Williams,Nathaniel             RECREATION LEADER I   A04001   \n",
              "Headspeth,Lee                              LABORER   A49504   \n",
              "Dickens,Tai Alani C                 DEPUTY SHERIFF   A38001   \n",
              "Bianca,Gino                FIELD SURVEY SUPERVISOR   A49106   \n",
              "\n",
              "                                     Agency   HireDate AnnualSalary   GrossPay  \n",
              "Name                                                                            \n",
              "Fields,Nathan E      HLTH-Health Department 2007-11-01    $45498.00  $47247.96  \n",
              "Williams,Nathaniel           R&P-Recreation 2007-06-28    $28875.00  $30050.70  \n",
              "Headspeth,Lee                TRANS-Highways 1997-09-06    $28891.00  $28180.99  \n",
              "Dickens,Tai Alani C        Sheriff's Office 2002-08-01    $45074.00  $48183.63  \n",
              "Bianca,Gino                  TRANS-Highways 2011-02-07    $51000.00  $12750.01  "
            ],
            "text/html": [
              "\n",
              "  <div id=\"df-e199afba-b252-4382-be60-674e89be8fd1\" class=\"colab-df-container\">\n",
              "    <div>\n",
              "<style scoped>\n",
              "    .dataframe tbody tr th:only-of-type {\n",
              "        vertical-align: middle;\n",
              "    }\n",
              "\n",
              "    .dataframe tbody tr th {\n",
              "        vertical-align: top;\n",
              "    }\n",
              "\n",
              "    .dataframe thead th {\n",
              "        text-align: right;\n",
              "    }\n",
              "</style>\n",
              "<table border=\"1\" class=\"dataframe\">\n",
              "  <thead>\n",
              "    <tr style=\"text-align: right;\">\n",
              "      <th></th>\n",
              "      <th>JobTitle</th>\n",
              "      <th>AgencyID</th>\n",
              "      <th>Agency</th>\n",
              "      <th>HireDate</th>\n",
              "      <th>AnnualSalary</th>\n",
              "      <th>GrossPay</th>\n",
              "    </tr>\n",
              "    <tr>\n",
              "      <th>Name</th>\n",
              "      <th></th>\n",
              "      <th></th>\n",
              "      <th></th>\n",
              "      <th></th>\n",
              "      <th></th>\n",
              "      <th></th>\n",
              "    </tr>\n",
              "  </thead>\n",
              "  <tbody>\n",
              "    <tr>\n",
              "      <th>Fields,Nathan E</th>\n",
              "      <td>COMMUNITY HEALTH EDUCATOR III</td>\n",
              "      <td>A65026</td>\n",
              "      <td>HLTH-Health Department</td>\n",
              "      <td>2007-11-01</td>\n",
              "      <td>$45498.00</td>\n",
              "      <td>$47247.96</td>\n",
              "    </tr>\n",
              "    <tr>\n",
              "      <th>Williams,Nathaniel</th>\n",
              "      <td>RECREATION LEADER I</td>\n",
              "      <td>A04001</td>\n",
              "      <td>R&amp;P-Recreation</td>\n",
              "      <td>2007-06-28</td>\n",
              "      <td>$28875.00</td>\n",
              "      <td>$30050.70</td>\n",
              "    </tr>\n",
              "    <tr>\n",
              "      <th>Headspeth,Lee</th>\n",
              "      <td>LABORER</td>\n",
              "      <td>A49504</td>\n",
              "      <td>TRANS-Highways</td>\n",
              "      <td>1997-09-06</td>\n",
              "      <td>$28891.00</td>\n",
              "      <td>$28180.99</td>\n",
              "    </tr>\n",
              "    <tr>\n",
              "      <th>Dickens,Tai Alani C</th>\n",
              "      <td>DEPUTY SHERIFF</td>\n",
              "      <td>A38001</td>\n",
              "      <td>Sheriff's Office</td>\n",
              "      <td>2002-08-01</td>\n",
              "      <td>$45074.00</td>\n",
              "      <td>$48183.63</td>\n",
              "    </tr>\n",
              "    <tr>\n",
              "      <th>Bianca,Gino</th>\n",
              "      <td>FIELD SURVEY SUPERVISOR</td>\n",
              "      <td>A49106</td>\n",
              "      <td>TRANS-Highways</td>\n",
              "      <td>2011-02-07</td>\n",
              "      <td>$51000.00</td>\n",
              "      <td>$12750.01</td>\n",
              "    </tr>\n",
              "  </tbody>\n",
              "</table>\n",
              "</div>\n",
              "    <div class=\"colab-df-buttons\">\n",
              "\n",
              "  <div class=\"colab-df-container\">\n",
              "    <button class=\"colab-df-convert\" onclick=\"convertToInteractive('df-e199afba-b252-4382-be60-674e89be8fd1')\"\n",
              "            title=\"Convert this dataframe to an interactive table.\"\n",
              "            style=\"display:none;\">\n",
              "\n",
              "  <svg xmlns=\"http://www.w3.org/2000/svg\" height=\"24px\" viewBox=\"0 -960 960 960\">\n",
              "    <path d=\"M120-120v-720h720v720H120Zm60-500h600v-160H180v160Zm220 220h160v-160H400v160Zm0 220h160v-160H400v160ZM180-400h160v-160H180v160Zm440 0h160v-160H620v160ZM180-180h160v-160H180v160Zm440 0h160v-160H620v160Z\"/>\n",
              "  </svg>\n",
              "    </button>\n",
              "\n",
              "  <style>\n",
              "    .colab-df-container {\n",
              "      display:flex;\n",
              "      gap: 12px;\n",
              "    }\n",
              "\n",
              "    .colab-df-convert {\n",
              "      background-color: #E8F0FE;\n",
              "      border: none;\n",
              "      border-radius: 50%;\n",
              "      cursor: pointer;\n",
              "      display: none;\n",
              "      fill: #1967D2;\n",
              "      height: 32px;\n",
              "      padding: 0 0 0 0;\n",
              "      width: 32px;\n",
              "    }\n",
              "\n",
              "    .colab-df-convert:hover {\n",
              "      background-color: #E2EBFA;\n",
              "      box-shadow: 0px 1px 2px rgba(60, 64, 67, 0.3), 0px 1px 3px 1px rgba(60, 64, 67, 0.15);\n",
              "      fill: #174EA6;\n",
              "    }\n",
              "\n",
              "    .colab-df-buttons div {\n",
              "      margin-bottom: 4px;\n",
              "    }\n",
              "\n",
              "    [theme=dark] .colab-df-convert {\n",
              "      background-color: #3B4455;\n",
              "      fill: #D2E3FC;\n",
              "    }\n",
              "\n",
              "    [theme=dark] .colab-df-convert:hover {\n",
              "      background-color: #434B5C;\n",
              "      box-shadow: 0px 1px 3px 1px rgba(0, 0, 0, 0.15);\n",
              "      filter: drop-shadow(0px 1px 2px rgba(0, 0, 0, 0.3));\n",
              "      fill: #FFFFFF;\n",
              "    }\n",
              "  </style>\n",
              "\n",
              "    <script>\n",
              "      const buttonEl =\n",
              "        document.querySelector('#df-e199afba-b252-4382-be60-674e89be8fd1 button.colab-df-convert');\n",
              "      buttonEl.style.display =\n",
              "        google.colab.kernel.accessAllowed ? 'block' : 'none';\n",
              "\n",
              "      async function convertToInteractive(key) {\n",
              "        const element = document.querySelector('#df-e199afba-b252-4382-be60-674e89be8fd1');\n",
              "        const dataTable =\n",
              "          await google.colab.kernel.invokeFunction('convertToInteractive',\n",
              "                                                    [key], {});\n",
              "        if (!dataTable) return;\n",
              "\n",
              "        const docLinkHtml = 'Like what you see? Visit the ' +\n",
              "          '<a target=\"_blank\" href=https://colab.research.google.com/notebooks/data_table.ipynb>data table notebook</a>'\n",
              "          + ' to learn more about interactive tables.';\n",
              "        element.innerHTML = '';\n",
              "        dataTable['output_type'] = 'display_data';\n",
              "        await google.colab.output.renderOutput(dataTable, element);\n",
              "        const docLink = document.createElement('div');\n",
              "        docLink.innerHTML = docLinkHtml;\n",
              "        element.appendChild(docLink);\n",
              "      }\n",
              "    </script>\n",
              "  </div>\n",
              "\n",
              "\n",
              "<div id=\"df-161c086f-5f1c-4dd7-9592-ef42b04353a8\">\n",
              "  <button class=\"colab-df-quickchart\" onclick=\"quickchart('df-161c086f-5f1c-4dd7-9592-ef42b04353a8')\"\n",
              "            title=\"Suggest charts\"\n",
              "            style=\"display:none;\">\n",
              "\n",
              "<svg xmlns=\"http://www.w3.org/2000/svg\" height=\"24px\"viewBox=\"0 0 24 24\"\n",
              "     width=\"24px\">\n",
              "    <g>\n",
              "        <path d=\"M19 3H5c-1.1 0-2 .9-2 2v14c0 1.1.9 2 2 2h14c1.1 0 2-.9 2-2V5c0-1.1-.9-2-2-2zM9 17H7v-7h2v7zm4 0h-2V7h2v10zm4 0h-2v-4h2v4z\"/>\n",
              "    </g>\n",
              "</svg>\n",
              "  </button>\n",
              "\n",
              "<style>\n",
              "  .colab-df-quickchart {\n",
              "      --bg-color: #E8F0FE;\n",
              "      --fill-color: #1967D2;\n",
              "      --hover-bg-color: #E2EBFA;\n",
              "      --hover-fill-color: #174EA6;\n",
              "      --disabled-fill-color: #AAA;\n",
              "      --disabled-bg-color: #DDD;\n",
              "  }\n",
              "\n",
              "  [theme=dark] .colab-df-quickchart {\n",
              "      --bg-color: #3B4455;\n",
              "      --fill-color: #D2E3FC;\n",
              "      --hover-bg-color: #434B5C;\n",
              "      --hover-fill-color: #FFFFFF;\n",
              "      --disabled-bg-color: #3B4455;\n",
              "      --disabled-fill-color: #666;\n",
              "  }\n",
              "\n",
              "  .colab-df-quickchart {\n",
              "    background-color: var(--bg-color);\n",
              "    border: none;\n",
              "    border-radius: 50%;\n",
              "    cursor: pointer;\n",
              "    display: none;\n",
              "    fill: var(--fill-color);\n",
              "    height: 32px;\n",
              "    padding: 0;\n",
              "    width: 32px;\n",
              "  }\n",
              "\n",
              "  .colab-df-quickchart:hover {\n",
              "    background-color: var(--hover-bg-color);\n",
              "    box-shadow: 0 1px 2px rgba(60, 64, 67, 0.3), 0 1px 3px 1px rgba(60, 64, 67, 0.15);\n",
              "    fill: var(--button-hover-fill-color);\n",
              "  }\n",
              "\n",
              "  .colab-df-quickchart-complete:disabled,\n",
              "  .colab-df-quickchart-complete:disabled:hover {\n",
              "    background-color: var(--disabled-bg-color);\n",
              "    fill: var(--disabled-fill-color);\n",
              "    box-shadow: none;\n",
              "  }\n",
              "\n",
              "  .colab-df-spinner {\n",
              "    border: 2px solid var(--fill-color);\n",
              "    border-color: transparent;\n",
              "    border-bottom-color: var(--fill-color);\n",
              "    animation:\n",
              "      spin 1s steps(1) infinite;\n",
              "  }\n",
              "\n",
              "  @keyframes spin {\n",
              "    0% {\n",
              "      border-color: transparent;\n",
              "      border-bottom-color: var(--fill-color);\n",
              "      border-left-color: var(--fill-color);\n",
              "    }\n",
              "    20% {\n",
              "      border-color: transparent;\n",
              "      border-left-color: var(--fill-color);\n",
              "      border-top-color: var(--fill-color);\n",
              "    }\n",
              "    30% {\n",
              "      border-color: transparent;\n",
              "      border-left-color: var(--fill-color);\n",
              "      border-top-color: var(--fill-color);\n",
              "      border-right-color: var(--fill-color);\n",
              "    }\n",
              "    40% {\n",
              "      border-color: transparent;\n",
              "      border-right-color: var(--fill-color);\n",
              "      border-top-color: var(--fill-color);\n",
              "    }\n",
              "    60% {\n",
              "      border-color: transparent;\n",
              "      border-right-color: var(--fill-color);\n",
              "    }\n",
              "    80% {\n",
              "      border-color: transparent;\n",
              "      border-right-color: var(--fill-color);\n",
              "      border-bottom-color: var(--fill-color);\n",
              "    }\n",
              "    90% {\n",
              "      border-color: transparent;\n",
              "      border-bottom-color: var(--fill-color);\n",
              "    }\n",
              "  }\n",
              "</style>\n",
              "\n",
              "  <script>\n",
              "    async function quickchart(key) {\n",
              "      const quickchartButtonEl =\n",
              "        document.querySelector('#' + key + ' button');\n",
              "      quickchartButtonEl.disabled = true;  // To prevent multiple clicks.\n",
              "      quickchartButtonEl.classList.add('colab-df-spinner');\n",
              "      try {\n",
              "        const charts = await google.colab.kernel.invokeFunction(\n",
              "            'suggestCharts', [key], {});\n",
              "      } catch (error) {\n",
              "        console.error('Error during call to suggestCharts:', error);\n",
              "      }\n",
              "      quickchartButtonEl.classList.remove('colab-df-spinner');\n",
              "      quickchartButtonEl.classList.add('colab-df-quickchart-complete');\n",
              "    }\n",
              "    (() => {\n",
              "      let quickchartButtonEl =\n",
              "        document.querySelector('#df-161c086f-5f1c-4dd7-9592-ef42b04353a8 button');\n",
              "      quickchartButtonEl.style.display =\n",
              "        google.colab.kernel.accessAllowed ? 'block' : 'none';\n",
              "    })();\n",
              "  </script>\n",
              "</div>\n",
              "\n",
              "    </div>\n",
              "  </div>\n"
            ],
            "application/vnd.google.colaboratory.intrinsic+json": {
              "type": "dataframe",
              "summary": "{\n  \"name\": \"salaries\",\n  \"rows\": 5,\n  \"fields\": [\n    {\n      \"column\": \"Name\",\n      \"properties\": {\n        \"dtype\": \"string\",\n        \"num_unique_values\": 5,\n        \"samples\": [\n          \"Williams,Nathaniel\",\n          \"Bianca,Gino\",\n          \"Headspeth,Lee\"\n        ],\n        \"semantic_type\": \"\",\n        \"description\": \"\"\n      }\n    },\n    {\n      \"column\": \"JobTitle\",\n      \"properties\": {\n        \"dtype\": \"string\",\n        \"num_unique_values\": 5,\n        \"samples\": [\n          \"RECREATION LEADER I\",\n          \"FIELD SURVEY SUPERVISOR\",\n          \"LABORER\"\n        ],\n        \"semantic_type\": \"\",\n        \"description\": \"\"\n      }\n    },\n    {\n      \"column\": \"AgencyID\",\n      \"properties\": {\n        \"dtype\": \"string\",\n        \"num_unique_values\": 5,\n        \"samples\": [\n          \"A04001\",\n          \"A49106\",\n          \"A49504\"\n        ],\n        \"semantic_type\": \"\",\n        \"description\": \"\"\n      }\n    },\n    {\n      \"column\": \"Agency\",\n      \"properties\": {\n        \"dtype\": \"string\",\n        \"num_unique_values\": 4,\n        \"samples\": [\n          \"R&P-Recreation\",\n          \"Sheriff's Office\",\n          \"HLTH-Health Department\"\n        ],\n        \"semantic_type\": \"\",\n        \"description\": \"\"\n      }\n    },\n    {\n      \"column\": \"HireDate\",\n      \"properties\": {\n        \"dtype\": \"date\",\n        \"min\": \"1997-09-06 00:00:00\",\n        \"max\": \"2011-02-07 00:00:00\",\n        \"num_unique_values\": 5,\n        \"samples\": [\n          \"2007-06-28 00:00:00\",\n          \"2011-02-07 00:00:00\",\n          \"1997-09-06 00:00:00\"\n        ],\n        \"semantic_type\": \"\",\n        \"description\": \"\"\n      }\n    },\n    {\n      \"column\": \"AnnualSalary\",\n      \"properties\": {\n        \"dtype\": \"string\",\n        \"num_unique_values\": 5,\n        \"samples\": [\n          \"$28875.00\",\n          \"$51000.00\",\n          \"$28891.00\"\n        ],\n        \"semantic_type\": \"\",\n        \"description\": \"\"\n      }\n    },\n    {\n      \"column\": \"GrossPay\",\n      \"properties\": {\n        \"dtype\": \"string\",\n        \"num_unique_values\": 5,\n        \"samples\": [\n          \"$30050.70\",\n          \"$12750.01\",\n          \"$28180.99\"\n        ],\n        \"semantic_type\": \"\",\n        \"description\": \"\"\n      }\n    }\n  ]\n}"
            }
          },
          "metadata": {},
          "execution_count": 7
        }
      ],
      "source": [
        "salaries.sample(5)"
      ]
    },
    {
      "cell_type": "markdown",
      "metadata": {
        "id": "4Q9rg2y_eZU6"
      },
      "source": [
        "# Data Preprocessing\n",
        "\n",
        "## Preprocess the Data (Convert Strings to Numbers)\n",
        "\n",
        "The `AnnualSalary` and `GrossPay` columns are strings and start with a `$`. We'll have to strip this off and convert these columns to floats.\n",
        "\n",
        "Don't worry too much about this code... just confirm that it works by checking that it now looks like a number without a `$` sign."
      ]
    },
    {
      "cell_type": "code",
      "execution_count": 8,
      "metadata": {
        "colab": {
          "base_uri": "https://localhost:8080/",
          "height": 231
        },
        "id": "S97LlC-ReZU7",
        "outputId": "af3635d9-798f-4f65-ba27-078e593830f3"
      },
      "outputs": [
        {
          "output_type": "execute_result",
          "data": {
            "text/plain": [
              "                                         JobTitle AgencyID  \\\n",
              "Name                                                         \n",
              "Aaron,Patricia G    Facilities/Office Services II   A03031   \n",
              "Aaron,Petra L          ASSISTANT STATE'S ATTORNEY   A29005   \n",
              "Abaineh,Yohannes T                 EPIDEMIOLOGIST   A65026   \n",
              "Abdal-Rahim,Naim A                EMT Firefighter   A64063   \n",
              "Abdi,Ezekiel W                     POLICE OFFICER   A99398   \n",
              "\n",
              "                                     Agency   HireDate  AnnualSalary  GrossPay  \n",
              "Name                                                                            \n",
              "Aaron,Patricia G         OED-Employment Dev 1979-10-24       50845.0  45505.94  \n",
              "Aaron,Petra L       States Attorneys Office 2006-09-25       56595.0  51588.89  \n",
              "Abaineh,Yohannes T   HLTH-Health Department 2009-07-23       56500.0  50633.26  \n",
              "Abdal-Rahim,Naim A    Fire Academy Recruits 2011-03-30       33476.0   3888.95  \n",
              "Abdi,Ezekiel W            Police Department 2007-06-14       50919.0  51421.73  "
            ],
            "text/html": [
              "\n",
              "  <div id=\"df-22cdf0ba-ee68-45b2-b0d1-4a1e5a3965e6\" class=\"colab-df-container\">\n",
              "    <div>\n",
              "<style scoped>\n",
              "    .dataframe tbody tr th:only-of-type {\n",
              "        vertical-align: middle;\n",
              "    }\n",
              "\n",
              "    .dataframe tbody tr th {\n",
              "        vertical-align: top;\n",
              "    }\n",
              "\n",
              "    .dataframe thead th {\n",
              "        text-align: right;\n",
              "    }\n",
              "</style>\n",
              "<table border=\"1\" class=\"dataframe\">\n",
              "  <thead>\n",
              "    <tr style=\"text-align: right;\">\n",
              "      <th></th>\n",
              "      <th>JobTitle</th>\n",
              "      <th>AgencyID</th>\n",
              "      <th>Agency</th>\n",
              "      <th>HireDate</th>\n",
              "      <th>AnnualSalary</th>\n",
              "      <th>GrossPay</th>\n",
              "    </tr>\n",
              "    <tr>\n",
              "      <th>Name</th>\n",
              "      <th></th>\n",
              "      <th></th>\n",
              "      <th></th>\n",
              "      <th></th>\n",
              "      <th></th>\n",
              "      <th></th>\n",
              "    </tr>\n",
              "  </thead>\n",
              "  <tbody>\n",
              "    <tr>\n",
              "      <th>Aaron,Patricia G</th>\n",
              "      <td>Facilities/Office Services II</td>\n",
              "      <td>A03031</td>\n",
              "      <td>OED-Employment Dev</td>\n",
              "      <td>1979-10-24</td>\n",
              "      <td>50845.0</td>\n",
              "      <td>45505.94</td>\n",
              "    </tr>\n",
              "    <tr>\n",
              "      <th>Aaron,Petra L</th>\n",
              "      <td>ASSISTANT STATE'S ATTORNEY</td>\n",
              "      <td>A29005</td>\n",
              "      <td>States Attorneys Office</td>\n",
              "      <td>2006-09-25</td>\n",
              "      <td>56595.0</td>\n",
              "      <td>51588.89</td>\n",
              "    </tr>\n",
              "    <tr>\n",
              "      <th>Abaineh,Yohannes T</th>\n",
              "      <td>EPIDEMIOLOGIST</td>\n",
              "      <td>A65026</td>\n",
              "      <td>HLTH-Health Department</td>\n",
              "      <td>2009-07-23</td>\n",
              "      <td>56500.0</td>\n",
              "      <td>50633.26</td>\n",
              "    </tr>\n",
              "    <tr>\n",
              "      <th>Abdal-Rahim,Naim A</th>\n",
              "      <td>EMT Firefighter</td>\n",
              "      <td>A64063</td>\n",
              "      <td>Fire Academy Recruits</td>\n",
              "      <td>2011-03-30</td>\n",
              "      <td>33476.0</td>\n",
              "      <td>3888.95</td>\n",
              "    </tr>\n",
              "    <tr>\n",
              "      <th>Abdi,Ezekiel W</th>\n",
              "      <td>POLICE OFFICER</td>\n",
              "      <td>A99398</td>\n",
              "      <td>Police Department</td>\n",
              "      <td>2007-06-14</td>\n",
              "      <td>50919.0</td>\n",
              "      <td>51421.73</td>\n",
              "    </tr>\n",
              "  </tbody>\n",
              "</table>\n",
              "</div>\n",
              "    <div class=\"colab-df-buttons\">\n",
              "\n",
              "  <div class=\"colab-df-container\">\n",
              "    <button class=\"colab-df-convert\" onclick=\"convertToInteractive('df-22cdf0ba-ee68-45b2-b0d1-4a1e5a3965e6')\"\n",
              "            title=\"Convert this dataframe to an interactive table.\"\n",
              "            style=\"display:none;\">\n",
              "\n",
              "  <svg xmlns=\"http://www.w3.org/2000/svg\" height=\"24px\" viewBox=\"0 -960 960 960\">\n",
              "    <path d=\"M120-120v-720h720v720H120Zm60-500h600v-160H180v160Zm220 220h160v-160H400v160Zm0 220h160v-160H400v160ZM180-400h160v-160H180v160Zm440 0h160v-160H620v160ZM180-180h160v-160H180v160Zm440 0h160v-160H620v160Z\"/>\n",
              "  </svg>\n",
              "    </button>\n",
              "\n",
              "  <style>\n",
              "    .colab-df-container {\n",
              "      display:flex;\n",
              "      gap: 12px;\n",
              "    }\n",
              "\n",
              "    .colab-df-convert {\n",
              "      background-color: #E8F0FE;\n",
              "      border: none;\n",
              "      border-radius: 50%;\n",
              "      cursor: pointer;\n",
              "      display: none;\n",
              "      fill: #1967D2;\n",
              "      height: 32px;\n",
              "      padding: 0 0 0 0;\n",
              "      width: 32px;\n",
              "    }\n",
              "\n",
              "    .colab-df-convert:hover {\n",
              "      background-color: #E2EBFA;\n",
              "      box-shadow: 0px 1px 2px rgba(60, 64, 67, 0.3), 0px 1px 3px 1px rgba(60, 64, 67, 0.15);\n",
              "      fill: #174EA6;\n",
              "    }\n",
              "\n",
              "    .colab-df-buttons div {\n",
              "      margin-bottom: 4px;\n",
              "    }\n",
              "\n",
              "    [theme=dark] .colab-df-convert {\n",
              "      background-color: #3B4455;\n",
              "      fill: #D2E3FC;\n",
              "    }\n",
              "\n",
              "    [theme=dark] .colab-df-convert:hover {\n",
              "      background-color: #434B5C;\n",
              "      box-shadow: 0px 1px 3px 1px rgba(0, 0, 0, 0.15);\n",
              "      filter: drop-shadow(0px 1px 2px rgba(0, 0, 0, 0.3));\n",
              "      fill: #FFFFFF;\n",
              "    }\n",
              "  </style>\n",
              "\n",
              "    <script>\n",
              "      const buttonEl =\n",
              "        document.querySelector('#df-22cdf0ba-ee68-45b2-b0d1-4a1e5a3965e6 button.colab-df-convert');\n",
              "      buttonEl.style.display =\n",
              "        google.colab.kernel.accessAllowed ? 'block' : 'none';\n",
              "\n",
              "      async function convertToInteractive(key) {\n",
              "        const element = document.querySelector('#df-22cdf0ba-ee68-45b2-b0d1-4a1e5a3965e6');\n",
              "        const dataTable =\n",
              "          await google.colab.kernel.invokeFunction('convertToInteractive',\n",
              "                                                    [key], {});\n",
              "        if (!dataTable) return;\n",
              "\n",
              "        const docLinkHtml = 'Like what you see? Visit the ' +\n",
              "          '<a target=\"_blank\" href=https://colab.research.google.com/notebooks/data_table.ipynb>data table notebook</a>'\n",
              "          + ' to learn more about interactive tables.';\n",
              "        element.innerHTML = '';\n",
              "        dataTable['output_type'] = 'display_data';\n",
              "        await google.colab.output.renderOutput(dataTable, element);\n",
              "        const docLink = document.createElement('div');\n",
              "        docLink.innerHTML = docLinkHtml;\n",
              "        element.appendChild(docLink);\n",
              "      }\n",
              "    </script>\n",
              "  </div>\n",
              "\n",
              "\n",
              "<div id=\"df-05854b1c-1e9c-4e75-9d1b-b9b85a7a1890\">\n",
              "  <button class=\"colab-df-quickchart\" onclick=\"quickchart('df-05854b1c-1e9c-4e75-9d1b-b9b85a7a1890')\"\n",
              "            title=\"Suggest charts\"\n",
              "            style=\"display:none;\">\n",
              "\n",
              "<svg xmlns=\"http://www.w3.org/2000/svg\" height=\"24px\"viewBox=\"0 0 24 24\"\n",
              "     width=\"24px\">\n",
              "    <g>\n",
              "        <path d=\"M19 3H5c-1.1 0-2 .9-2 2v14c0 1.1.9 2 2 2h14c1.1 0 2-.9 2-2V5c0-1.1-.9-2-2-2zM9 17H7v-7h2v7zm4 0h-2V7h2v10zm4 0h-2v-4h2v4z\"/>\n",
              "    </g>\n",
              "</svg>\n",
              "  </button>\n",
              "\n",
              "<style>\n",
              "  .colab-df-quickchart {\n",
              "      --bg-color: #E8F0FE;\n",
              "      --fill-color: #1967D2;\n",
              "      --hover-bg-color: #E2EBFA;\n",
              "      --hover-fill-color: #174EA6;\n",
              "      --disabled-fill-color: #AAA;\n",
              "      --disabled-bg-color: #DDD;\n",
              "  }\n",
              "\n",
              "  [theme=dark] .colab-df-quickchart {\n",
              "      --bg-color: #3B4455;\n",
              "      --fill-color: #D2E3FC;\n",
              "      --hover-bg-color: #434B5C;\n",
              "      --hover-fill-color: #FFFFFF;\n",
              "      --disabled-bg-color: #3B4455;\n",
              "      --disabled-fill-color: #666;\n",
              "  }\n",
              "\n",
              "  .colab-df-quickchart {\n",
              "    background-color: var(--bg-color);\n",
              "    border: none;\n",
              "    border-radius: 50%;\n",
              "    cursor: pointer;\n",
              "    display: none;\n",
              "    fill: var(--fill-color);\n",
              "    height: 32px;\n",
              "    padding: 0;\n",
              "    width: 32px;\n",
              "  }\n",
              "\n",
              "  .colab-df-quickchart:hover {\n",
              "    background-color: var(--hover-bg-color);\n",
              "    box-shadow: 0 1px 2px rgba(60, 64, 67, 0.3), 0 1px 3px 1px rgba(60, 64, 67, 0.15);\n",
              "    fill: var(--button-hover-fill-color);\n",
              "  }\n",
              "\n",
              "  .colab-df-quickchart-complete:disabled,\n",
              "  .colab-df-quickchart-complete:disabled:hover {\n",
              "    background-color: var(--disabled-bg-color);\n",
              "    fill: var(--disabled-fill-color);\n",
              "    box-shadow: none;\n",
              "  }\n",
              "\n",
              "  .colab-df-spinner {\n",
              "    border: 2px solid var(--fill-color);\n",
              "    border-color: transparent;\n",
              "    border-bottom-color: var(--fill-color);\n",
              "    animation:\n",
              "      spin 1s steps(1) infinite;\n",
              "  }\n",
              "\n",
              "  @keyframes spin {\n",
              "    0% {\n",
              "      border-color: transparent;\n",
              "      border-bottom-color: var(--fill-color);\n",
              "      border-left-color: var(--fill-color);\n",
              "    }\n",
              "    20% {\n",
              "      border-color: transparent;\n",
              "      border-left-color: var(--fill-color);\n",
              "      border-top-color: var(--fill-color);\n",
              "    }\n",
              "    30% {\n",
              "      border-color: transparent;\n",
              "      border-left-color: var(--fill-color);\n",
              "      border-top-color: var(--fill-color);\n",
              "      border-right-color: var(--fill-color);\n",
              "    }\n",
              "    40% {\n",
              "      border-color: transparent;\n",
              "      border-right-color: var(--fill-color);\n",
              "      border-top-color: var(--fill-color);\n",
              "    }\n",
              "    60% {\n",
              "      border-color: transparent;\n",
              "      border-right-color: var(--fill-color);\n",
              "    }\n",
              "    80% {\n",
              "      border-color: transparent;\n",
              "      border-right-color: var(--fill-color);\n",
              "      border-bottom-color: var(--fill-color);\n",
              "    }\n",
              "    90% {\n",
              "      border-color: transparent;\n",
              "      border-bottom-color: var(--fill-color);\n",
              "    }\n",
              "  }\n",
              "</style>\n",
              "\n",
              "  <script>\n",
              "    async function quickchart(key) {\n",
              "      const quickchartButtonEl =\n",
              "        document.querySelector('#' + key + ' button');\n",
              "      quickchartButtonEl.disabled = true;  // To prevent multiple clicks.\n",
              "      quickchartButtonEl.classList.add('colab-df-spinner');\n",
              "      try {\n",
              "        const charts = await google.colab.kernel.invokeFunction(\n",
              "            'suggestCharts', [key], {});\n",
              "      } catch (error) {\n",
              "        console.error('Error during call to suggestCharts:', error);\n",
              "      }\n",
              "      quickchartButtonEl.classList.remove('colab-df-spinner');\n",
              "      quickchartButtonEl.classList.add('colab-df-quickchart-complete');\n",
              "    }\n",
              "    (() => {\n",
              "      let quickchartButtonEl =\n",
              "        document.querySelector('#df-05854b1c-1e9c-4e75-9d1b-b9b85a7a1890 button');\n",
              "      quickchartButtonEl.style.display =\n",
              "        google.colab.kernel.accessAllowed ? 'block' : 'none';\n",
              "    })();\n",
              "  </script>\n",
              "</div>\n",
              "\n",
              "    </div>\n",
              "  </div>\n"
            ],
            "application/vnd.google.colaboratory.intrinsic+json": {
              "type": "dataframe",
              "variable_name": "salaries",
              "summary": "{\n  \"name\": \"salaries\",\n  \"rows\": 14454,\n  \"fields\": [\n    {\n      \"column\": \"Name\",\n      \"properties\": {\n        \"dtype\": \"string\",\n        \"num_unique_values\": 14402,\n        \"samples\": [\n          \"Pope,Joshua D\",\n          \"Zoppo,Catherine B\",\n          \"Ricks,Nelson D\"\n        ],\n        \"semantic_type\": \"\",\n        \"description\": \"\"\n      }\n    },\n    {\n      \"column\": \"JobTitle\",\n      \"properties\": {\n        \"dtype\": \"category\",\n        \"num_unique_values\": 1042,\n        \"samples\": [\n          \"TRANSPORTATION ASSOC II\",\n          \"PARK DISTRICT MANAGER\",\n          \"LEGISLATIVE FISCAL ANALYST\"\n        ],\n        \"semantic_type\": \"\",\n        \"description\": \"\"\n      }\n    },\n    {\n      \"column\": \"AgencyID\",\n      \"properties\": {\n        \"dtype\": \"category\",\n        \"num_unique_values\": 698,\n        \"samples\": [\n          \"W07900\",\n          \"A02003\",\n          \"A67010\"\n        ],\n        \"semantic_type\": \"\",\n        \"description\": \"\"\n      }\n    },\n    {\n      \"column\": \"Agency\",\n      \"properties\": {\n        \"dtype\": \"category\",\n        \"num_unique_values\": 57,\n        \"samples\": [\n          \"OED-Employment Dev\",\n          \"Liquor License Board\",\n          \"TRANS-Towing\"\n        ],\n        \"semantic_type\": \"\",\n        \"description\": \"\"\n      }\n    },\n    {\n      \"column\": \"HireDate\",\n      \"properties\": {\n        \"dtype\": \"date\",\n        \"min\": \"1952-06-23 00:00:00\",\n        \"max\": \"2011-05-10 00:00:00\",\n        \"num_unique_values\": 4694,\n        \"samples\": [\n          \"1988-06-21 00:00:00\",\n          \"1995-08-31 00:00:00\",\n          \"1988-03-03 00:00:00\"\n        ],\n        \"semantic_type\": \"\",\n        \"description\": \"\"\n      }\n    },\n    {\n      \"column\": \"AnnualSalary\",\n      \"properties\": {\n        \"dtype\": \"number\",\n        \"std\": 19903.01213458374,\n        \"min\": 377.0,\n        \"max\": 238772.0,\n        \"num_unique_values\": 1565,\n        \"samples\": [\n          108640.0,\n          39931.0,\n          89900.0\n        ],\n        \"semantic_type\": \"\",\n        \"description\": \"\"\n      }\n    },\n    {\n      \"column\": \"GrossPay\",\n      \"properties\": {\n        \"dtype\": \"number\",\n        \"std\": 22702.528299012134,\n        \"min\": 7.25,\n        \"max\": 170422.99,\n        \"num_unique_values\": 13970,\n        \"samples\": [\n          40391.19,\n          25830.67,\n          36329.48\n        ],\n        \"semantic_type\": \"\",\n        \"description\": \"\"\n      }\n    }\n  ]\n}"
            }
          },
          "metadata": {},
          "execution_count": 8
        }
      ],
      "source": [
        "salaries.AnnualSalary = salaries.AnnualSalary.str.strip('$').astype(float)\n",
        "salaries.GrossPay = salaries.GrossPay.str.strip('$').astype(float)\n",
        "salaries.head()"
      ]
    },
    {
      "cell_type": "markdown",
      "metadata": {
        "id": "kXlW15KdeZU7"
      },
      "source": [
        "## Perform Exploratory Data Analysis\n",
        "\n",
        "Create a scatterplot of annual salary versus gross pay."
      ]
    },
    {
      "cell_type": "code",
      "execution_count": 9,
      "metadata": {
        "colab": {
          "base_uri": "https://localhost:8080/",
          "height": 464
        },
        "id": "dEeheMWyeZU8",
        "outputId": "8bc7e5b7-f433-4110-9ac1-ca744f88aa8a"
      },
      "outputs": [
        {
          "output_type": "execute_result",
          "data": {
            "text/plain": [
              "<Axes: xlabel='AnnualSalary', ylabel='GrossPay'>"
            ]
          },
          "metadata": {},
          "execution_count": 9
        },
        {
          "output_type": "display_data",
          "data": {
            "text/plain": [
              "<Figure size 640x480 with 1 Axes>"
            ],
            "image/png": "[encoded data removed]"
          },
          "metadata": {}
        }
      ],
      "source": [
        "salaries.plot.scatter(x='AnnualSalary', y='GrossPay')"
      ]
    },
    {
      "cell_type": "markdown",
      "metadata": {
        "id": "4G5bSwwTeZU8"
      },
      "source": [
        "# Look for a Linear Relationship\n",
        "\n",
        "It seems like there is a linear relationship in there, but it's obscured by a lot of noise.\n",
        "\n",
        "Let's get a vibe for the data, and what we should expect to see in our machine generated model.\n",
        "\n",
        "We will extract a tiny sample of it and do an approximation of the Theil-Sen algorithm by hand.\n",
        "\n",
        "Note that because we are _sampling_ the data, everyone is going to get a different subset of the data here."
      ]
    },
    {
      "cell_type": "code",
      "execution_count": 10,
      "metadata": {
        "colab": {
          "base_uri": "https://localhost:8080/",
          "height": 383
        },
        "id": "zr4YAWddeZU9",
        "outputId": "e14c5b9d-894d-4487-9578-d22b63738f65"
      },
      "outputs": [
        {
          "output_type": "execute_result",
          "data": {
            "text/plain": [
              "                                          JobTitle AgencyID  \\\n",
              "Name                                                          \n",
              "Green,Kevin R       TRAFFIC ELECTRON MAINT TECH II   A49505   \n",
              "Winkler,Bryan K                    EMT Firefighter   A64157   \n",
              "Williams,Clinton D  Waste Water Opns Tech II Sanit   A50207   \n",
              "Brunson,Kenneth L         DEPUTY SHERIFF (SPECIAL)   A38005   \n",
              "Reyes,Sarah P                         SECRETARY II   A75056   \n",
              "Lonon III,Leroy                            LABORER   B70104   \n",
              "Kroger,James L                 CALL CENTER AGENT I   A40002   \n",
              "Kemick,Sandra L             CHIEF STATE'S ATTORNEY   A29005   \n",
              "Taylor,Douglas S                   FIRE LIEUTENANT   A64143   \n",
              "Cox,Kathryn L                  Fire Lieutenant ALS   A64111   \n",
              "\n",
              "                                      Agency   HireDate  AnnualSalary  \\\n",
              "Name                                                                    \n",
              "Green,Kevin R                 TRANS-Highways 1991-12-16       49027.0   \n",
              "Winkler,Bryan K              Fire Department 2008-08-18       39853.0   \n",
              "Williams,Clinton D   DPW-Water & Waste Water 2007-02-12       37511.0   \n",
              "Brunson,Kenneth L           Sheriff's Office 2001-09-13       41899.0   \n",
              "Reyes,Sarah P       Enoch Pratt Free Library 2007-07-30       31119.0   \n",
              "Lonon III,Leroy              DPW-Solid Waste 2006-05-22       28059.0   \n",
              "Kroger,James L           M-R Info Technology 2005-07-05       33841.0   \n",
              "Kemick,Sandra L      States Attorneys Office 1979-06-11       92200.0   \n",
              "Taylor,Douglas S             Fire Department 1990-06-25       68717.0   \n",
              "Cox,Kathryn L                Fire Department 1995-03-22       67881.0   \n",
              "\n",
              "                    GrossPay  \n",
              "Name                          \n",
              "Green,Kevin R       69421.25  \n",
              "Winkler,Bryan K     39367.23  \n",
              "Williams,Clinton D  31749.83  \n",
              "Brunson,Kenneth L   43313.12  \n",
              "Reyes,Sarah P       26580.66  \n",
              "Lonon III,Leroy     25361.20  \n",
              "Kroger,James L      32343.94  \n",
              "Kemick,Sandra L     80852.61  \n",
              "Taylor,Douglas S    73077.08  \n",
              "Cox,Kathryn L       71305.60  "
            ],
            "text/html": [
              "\n",
              "  <div id=\"df-399c4967-d239-4f4f-b0d5-2f411acf57a4\" class=\"colab-df-container\">\n",
              "    <div>\n",
              "<style scoped>\n",
              "    .dataframe tbody tr th:only-of-type {\n",
              "        vertical-align: middle;\n",
              "    }\n",
              "\n",
              "    .dataframe tbody tr th {\n",
              "        vertical-align: top;\n",
              "    }\n",
              "\n",
              "    .dataframe thead th {\n",
              "        text-align: right;\n",
              "    }\n",
              "</style>\n",
              "<table border=\"1\" class=\"dataframe\">\n",
              "  <thead>\n",
              "    <tr style=\"text-align: right;\">\n",
              "      <th></th>\n",
              "      <th>JobTitle</th>\n",
              "      <th>AgencyID</th>\n",
              "      <th>Agency</th>\n",
              "      <th>HireDate</th>\n",
              "      <th>AnnualSalary</th>\n",
              "      <th>GrossPay</th>\n",
              "    </tr>\n",
              "    <tr>\n",
              "      <th>Name</th>\n",
              "      <th></th>\n",
              "      <th></th>\n",
              "      <th></th>\n",
              "      <th></th>\n",
              "      <th></th>\n",
              "      <th></th>\n",
              "    </tr>\n",
              "  </thead>\n",
              "  <tbody>\n",
              "    <tr>\n",
              "      <th>Green,Kevin R</th>\n",
              "      <td>TRAFFIC ELECTRON MAINT TECH II</td>\n",
              "      <td>A49505</td>\n",
              "      <td>TRANS-Highways</td>\n",
              "      <td>1991-12-16</td>\n",
              "      <td>49027.0</td>\n",
              "      <td>69421.25</td>\n",
              "    </tr>\n",
              "    <tr>\n",
              "      <th>Winkler,Bryan K</th>\n",
              "      <td>EMT Firefighter</td>\n",
              "      <td>A64157</td>\n",
              "      <td>Fire Department</td>\n",
              "      <td>2008-08-18</td>\n",
              "      <td>39853.0</td>\n",
              "      <td>39367.23</td>\n",
              "    </tr>\n",
              "    <tr>\n",
              "      <th>Williams,Clinton D</th>\n",
              "      <td>Waste Water Opns Tech II Sanit</td>\n",
              "      <td>A50207</td>\n",
              "      <td>DPW-Water &amp; Waste Water</td>\n",
              "      <td>2007-02-12</td>\n",
              "      <td>37511.0</td>\n",
              "      <td>31749.83</td>\n",
              "    </tr>\n",
              "    <tr>\n",
              "      <th>Brunson,Kenneth L</th>\n",
              "      <td>DEPUTY SHERIFF (SPECIAL)</td>\n",
              "      <td>A38005</td>\n",
              "      <td>Sheriff's Office</td>\n",
              "      <td>2001-09-13</td>\n",
              "      <td>41899.0</td>\n",
              "      <td>43313.12</td>\n",
              "    </tr>\n",
              "    <tr>\n",
              "      <th>Reyes,Sarah P</th>\n",
              "      <td>SECRETARY II</td>\n",
              "      <td>A75056</td>\n",
              "      <td>Enoch Pratt Free Library</td>\n",
              "      <td>2007-07-30</td>\n",
              "      <td>31119.0</td>\n",
              "      <td>26580.66</td>\n",
              "    </tr>\n",
              "    <tr>\n",
              "      <th>Lonon III,Leroy</th>\n",
              "      <td>LABORER</td>\n",
              "      <td>B70104</td>\n",
              "      <td>DPW-Solid Waste</td>\n",
              "      <td>2006-05-22</td>\n",
              "      <td>28059.0</td>\n",
              "      <td>25361.20</td>\n",
              "    </tr>\n",
              "    <tr>\n",
              "      <th>Kroger,James L</th>\n",
              "      <td>CALL CENTER AGENT I</td>\n",
              "      <td>A40002</td>\n",
              "      <td>M-R Info Technology</td>\n",
              "      <td>2005-07-05</td>\n",
              "      <td>33841.0</td>\n",
              "      <td>32343.94</td>\n",
              "    </tr>\n",
              "    <tr>\n",
              "      <th>Kemick,Sandra L</th>\n",
              "      <td>CHIEF STATE'S ATTORNEY</td>\n",
              "      <td>A29005</td>\n",
              "      <td>States Attorneys Office</td>\n",
              "      <td>1979-06-11</td>\n",
              "      <td>92200.0</td>\n",
              "      <td>80852.61</td>\n",
              "    </tr>\n",
              "    <tr>\n",
              "      <th>Taylor,Douglas S</th>\n",
              "      <td>FIRE LIEUTENANT</td>\n",
              "      <td>A64143</td>\n",
              "      <td>Fire Department</td>\n",
              "      <td>1990-06-25</td>\n",
              "      <td>68717.0</td>\n",
              "      <td>73077.08</td>\n",
              "    </tr>\n",
              "    <tr>\n",
              "      <th>Cox,Kathryn L</th>\n",
              "      <td>Fire Lieutenant ALS</td>\n",
              "      <td>A64111</td>\n",
              "      <td>Fire Department</td>\n",
              "      <td>1995-03-22</td>\n",
              "      <td>67881.0</td>\n",
              "      <td>71305.60</td>\n",
              "    </tr>\n",
              "  </tbody>\n",
              "</table>\n",
              "</div>\n",
              "    <div class=\"colab-df-buttons\">\n",
              "\n",
              "  <div class=\"colab-df-container\">\n",
              "    <button class=\"colab-df-convert\" onclick=\"convertToInteractive('df-399c4967-d239-4f4f-b0d5-2f411acf57a4')\"\n",
              "            title=\"Convert this dataframe to an interactive table.\"\n",
              "            style=\"display:none;\">\n",
              "\n",
              "  <svg xmlns=\"http://www.w3.org/2000/svg\" height=\"24px\" viewBox=\"0 -960 960 960\">\n",
              "    <path d=\"M120-120v-720h720v720H120Zm60-500h600v-160H180v160Zm220 220h160v-160H400v160Zm0 220h160v-160H400v160ZM180-400h160v-160H180v160Zm440 0h160v-160H620v160ZM180-180h160v-160H180v160Zm440 0h160v-160H620v160Z\"/>\n",
              "  </svg>\n",
              "    </button>\n",
              "\n",
              "  <style>\n",
              "    .colab-df-container {\n",
              "      display:flex;\n",
              "      gap: 12px;\n",
              "    }\n",
              "\n",
              "    .colab-df-convert {\n",
              "      background-color: #E8F0FE;\n",
              "      border: none;\n",
              "      border-radius: 50%;\n",
              "      cursor: pointer;\n",
              "      display: none;\n",
              "      fill: #1967D2;\n",
              "      height: 32px;\n",
              "      padding: 0 0 0 0;\n",
              "      width: 32px;\n",
              "    }\n",
              "\n",
              "    .colab-df-convert:hover {\n",
              "      background-color: #E2EBFA;\n",
              "      box-shadow: 0px 1px 2px rgba(60, 64, 67, 0.3), 0px 1px 3px 1px rgba(60, 64, 67, 0.15);\n",
              "      fill: #174EA6;\n",
              "    }\n",
              "\n",
              "    .colab-df-buttons div {\n",
              "      margin-bottom: 4px;\n",
              "    }\n",
              "\n",
              "    [theme=dark] .colab-df-convert {\n",
              "      background-color: #3B4455;\n",
              "      fill: #D2E3FC;\n",
              "    }\n",
              "\n",
              "    [theme=dark] .colab-df-convert:hover {\n",
              "      background-color: #434B5C;\n",
              "      box-shadow: 0px 1px 3px 1px rgba(0, 0, 0, 0.15);\n",
              "      filter: drop-shadow(0px 1px 2px rgba(0, 0, 0, 0.3));\n",
              "      fill: #FFFFFF;\n",
              "    }\n",
              "  </style>\n",
              "\n",
              "    <script>\n",
              "      const buttonEl =\n",
              "        document.querySelector('#df-399c4967-d239-4f4f-b0d5-2f411acf57a4 button.colab-df-convert');\n",
              "      buttonEl.style.display =\n",
              "        google.colab.kernel.accessAllowed ? 'block' : 'none';\n",
              "\n",
              "      async function convertToInteractive(key) {\n",
              "        const element = document.querySelector('#df-399c4967-d239-4f4f-b0d5-2f411acf57a4');\n",
              "        const dataTable =\n",
              "          await google.colab.kernel.invokeFunction('convertToInteractive',\n",
              "                                                    [key], {});\n",
              "        if (!dataTable) return;\n",
              "\n",
              "        const docLinkHtml = 'Like what you see? Visit the ' +\n",
              "          '<a target=\"_blank\" href=https://colab.research.google.com/notebooks/data_table.ipynb>data table notebook</a>'\n",
              "          + ' to learn more about interactive tables.';\n",
              "        element.innerHTML = '';\n",
              "        dataTable['output_type'] = 'display_data';\n",
              "        await google.colab.output.renderOutput(dataTable, element);\n",
              "        const docLink = document.createElement('div');\n",
              "        docLink.innerHTML = docLinkHtml;\n",
              "        element.appendChild(docLink);\n",
              "      }\n",
              "    </script>\n",
              "  </div>\n",
              "\n",
              "\n",
              "<div id=\"df-fe50c522-1975-4283-89da-d9e801980057\">\n",
              "  <button class=\"colab-df-quickchart\" onclick=\"quickchart('df-fe50c522-1975-4283-89da-d9e801980057')\"\n",
              "            title=\"Suggest charts\"\n",
              "            style=\"display:none;\">\n",
              "\n",
              "<svg xmlns=\"http://www.w3.org/2000/svg\" height=\"24px\"viewBox=\"0 0 24 24\"\n",
              "     width=\"24px\">\n",
              "    <g>\n",
              "        <path d=\"M19 3H5c-1.1 0-2 .9-2 2v14c0 1.1.9 2 2 2h14c1.1 0 2-.9 2-2V5c0-1.1-.9-2-2-2zM9 17H7v-7h2v7zm4 0h-2V7h2v10zm4 0h-2v-4h2v4z\"/>\n",
              "    </g>\n",
              "</svg>\n",
              "  </button>\n",
              "\n",
              "<style>\n",
              "  .colab-df-quickchart {\n",
              "      --bg-color: #E8F0FE;\n",
              "      --fill-color: #1967D2;\n",
              "      --hover-bg-color: #E2EBFA;\n",
              "      --hover-fill-color: #174EA6;\n",
              "      --disabled-fill-color: #AAA;\n",
              "      --disabled-bg-color: #DDD;\n",
              "  }\n",
              "\n",
              "  [theme=dark] .colab-df-quickchart {\n",
              "      --bg-color: #3B4455;\n",
              "      --fill-color: #D2E3FC;\n",
              "      --hover-bg-color: #434B5C;\n",
              "      --hover-fill-color: #FFFFFF;\n",
              "      --disabled-bg-color: #3B4455;\n",
              "      --disabled-fill-color: #666;\n",
              "  }\n",
              "\n",
              "  .colab-df-quickchart {\n",
              "    background-color: var(--bg-color);\n",
              "    border: none;\n",
              "    border-radius: 50%;\n",
              "    cursor: pointer;\n",
              "    display: none;\n",
              "    fill: var(--fill-color);\n",
              "    height: 32px;\n",
              "    padding: 0;\n",
              "    width: 32px;\n",
              "  }\n",
              "\n",
              "  .colab-df-quickchart:hover {\n",
              "    background-color: var(--hover-bg-color);\n",
              "    box-shadow: 0 1px 2px rgba(60, 64, 67, 0.3), 0 1px 3px 1px rgba(60, 64, 67, 0.15);\n",
              "    fill: var(--button-hover-fill-color);\n",
              "  }\n",
              "\n",
              "  .colab-df-quickchart-complete:disabled,\n",
              "  .colab-df-quickchart-complete:disabled:hover {\n",
              "    background-color: var(--disabled-bg-color);\n",
              "    fill: var(--disabled-fill-color);\n",
              "    box-shadow: none;\n",
              "  }\n",
              "\n",
              "  .colab-df-spinner {\n",
              "    border: 2px solid var(--fill-color);\n",
              "    border-color: transparent;\n",
              "    border-bottom-color: var(--fill-color);\n",
              "    animation:\n",
              "      spin 1s steps(1) infinite;\n",
              "  }\n",
              "\n",
              "  @keyframes spin {\n",
              "    0% {\n",
              "      border-color: transparent;\n",
              "      border-bottom-color: var(--fill-color);\n",
              "      border-left-color: var(--fill-color);\n",
              "    }\n",
              "    20% {\n",
              "      border-color: transparent;\n",
              "      border-left-color: var(--fill-color);\n",
              "      border-top-color: var(--fill-color);\n",
              "    }\n",
              "    30% {\n",
              "      border-color: transparent;\n",
              "      border-left-color: var(--fill-color);\n",
              "      border-top-color: var(--fill-color);\n",
              "      border-right-color: var(--fill-color);\n",
              "    }\n",
              "    40% {\n",
              "      border-color: transparent;\n",
              "      border-right-color: var(--fill-color);\n",
              "      border-top-color: var(--fill-color);\n",
              "    }\n",
              "    60% {\n",
              "      border-color: transparent;\n",
              "      border-right-color: var(--fill-color);\n",
              "    }\n",
              "    80% {\n",
              "      border-color: transparent;\n",
              "      border-right-color: var(--fill-color);\n",
              "      border-bottom-color: var(--fill-color);\n",
              "    }\n",
              "    90% {\n",
              "      border-color: transparent;\n",
              "      border-bottom-color: var(--fill-color);\n",
              "    }\n",
              "  }\n",
              "</style>\n",
              "\n",
              "  <script>\n",
              "    async function quickchart(key) {\n",
              "      const quickchartButtonEl =\n",
              "        document.querySelector('#' + key + ' button');\n",
              "      quickchartButtonEl.disabled = true;  // To prevent multiple clicks.\n",
              "      quickchartButtonEl.classList.add('colab-df-spinner');\n",
              "      try {\n",
              "        const charts = await google.colab.kernel.invokeFunction(\n",
              "            'suggestCharts', [key], {});\n",
              "      } catch (error) {\n",
              "        console.error('Error during call to suggestCharts:', error);\n",
              "      }\n",
              "      quickchartButtonEl.classList.remove('colab-df-spinner');\n",
              "      quickchartButtonEl.classList.add('colab-df-quickchart-complete');\n",
              "    }\n",
              "    (() => {\n",
              "      let quickchartButtonEl =\n",
              "        document.querySelector('#df-fe50c522-1975-4283-89da-d9e801980057 button');\n",
              "      quickchartButtonEl.style.display =\n",
              "        google.colab.kernel.accessAllowed ? 'block' : 'none';\n",
              "    })();\n",
              "  </script>\n",
              "</div>\n",
              "\n",
              "  <div id=\"id_63ebc9c9-b1e5-431d-8f6c-c7b5c29dd5ad\">\n",
              "    <style>\n",
              "      .colab-df-generate {\n",
              "        background-color: #E8F0FE;\n",
              "        border: none;\n",
              "        border-radius: 50%;\n",
              "        cursor: pointer;\n",
              "        display: none;\n",
              "        fill: #1967D2;\n",
              "        height: 32px;\n",
              "        padding: 0 0 0 0;\n",
              "        width: 32px;\n",
              "      }\n",
              "\n",
              "      .colab-df-generate:hover {\n",
              "        background-color: #E2EBFA;\n",
              "        box-shadow: 0px 1px 2px rgba(60, 64, 67, 0.3), 0px 1px 3px 1px rgba(60, 64, 67, 0.15);\n",
              "        fill: #174EA6;\n",
              "      }\n",
              "\n",
              "      [theme=dark] .colab-df-generate {\n",
              "        background-color: #3B4455;\n",
              "        fill: #D2E3FC;\n",
              "      }\n",
              "\n",
              "      [theme=dark] .colab-df-generate:hover {\n",
              "        background-color: #434B5C;\n",
              "        box-shadow: 0px 1px 3px 1px rgba(0, 0, 0, 0.15);\n",
              "        filter: drop-shadow(0px 1px 2px rgba(0, 0, 0, 0.3));\n",
              "        fill: #FFFFFF;\n",
              "      }\n",
              "    </style>\n",
              "    <button class=\"colab-df-generate\" onclick=\"generateWithVariable('tiny_sample')\"\n",
              "            title=\"Generate code using this dataframe.\"\n",
              "            style=\"display:none;\">\n",
              "\n",
              "  <svg xmlns=\"http://www.w3.org/2000/svg\" height=\"24px\"viewBox=\"0 0 24 24\"\n",
              "       width=\"24px\">\n",
              "    <path d=\"M7,19H8.4L18.45,9,17,7.55,7,17.6ZM5,21V16.75L18.45,3.32a2,2,0,0,1,2.83,0l1.4,1.43a1.91,1.91,0,0,1,.58,1.4,1.91,1.91,0,0,1-.58,1.4L9.25,21ZM18.45,9,17,7.55Zm-12,3A5.31,5.31,0,0,0,4.9,8.1,5.31,5.31,0,0,0,1,6.5,5.31,5.31,0,0,0,4.9,4.9,5.31,5.31,0,0,0,6.5,1,5.31,5.31,0,0,0,8.1,4.9,5.31,5.31,0,0,0,12,6.5,5.46,5.46,0,0,0,6.5,12Z\"/>\n",
              "  </svg>\n",
              "    </button>\n",
              "    <script>\n",
              "      (() => {\n",
              "      const buttonEl =\n",
              "        document.querySelector('#id_63ebc9c9-b1e5-431d-8f6c-c7b5c29dd5ad button.colab-df-generate');\n",
              "      buttonEl.style.display =\n",
              "        google.colab.kernel.accessAllowed ? 'block' : 'none';\n",
              "\n",
              "      buttonEl.onclick = () => {\n",
              "        google.colab.notebook.generateWithVariable('tiny_sample');\n",
              "      }\n",
              "      })();\n",
              "    </script>\n",
              "  </div>\n",
              "\n",
              "    </div>\n",
              "  </div>\n"
            ],
            "application/vnd.google.colaboratory.intrinsic+json": {
              "type": "dataframe",
              "variable_name": "tiny_sample",
              "summary": "{\n  \"name\": \"tiny_sample\",\n  \"rows\": 10,\n  \"fields\": [\n    {\n      \"column\": \"Name\",\n      \"properties\": {\n        \"dtype\": \"string\",\n        \"num_unique_values\": 10,\n        \"samples\": [\n          \"Taylor,Douglas S\",\n          \"Winkler,Bryan K\",\n          \"Lonon III,Leroy\"\n        ],\n        \"semantic_type\": \"\",\n        \"description\": \"\"\n      }\n    },\n    {\n      \"column\": \"JobTitle\",\n      \"properties\": {\n        \"dtype\": \"string\",\n        \"num_unique_values\": 10,\n        \"samples\": [\n          \"FIRE LIEUTENANT\",\n          \"EMT Firefighter\",\n          \"LABORER\"\n        ],\n        \"semantic_type\": \"\",\n        \"description\": \"\"\n      }\n    },\n    {\n      \"column\": \"AgencyID\",\n      \"properties\": {\n        \"dtype\": \"string\",\n        \"num_unique_values\": 10,\n        \"samples\": [\n          \"A64143\",\n          \"A64157\",\n          \"B70104\"\n        ],\n        \"semantic_type\": \"\",\n        \"description\": \"\"\n      }\n    },\n    {\n      \"column\": \"Agency\",\n      \"properties\": {\n        \"dtype\": \"string\",\n        \"num_unique_values\": 8,\n        \"samples\": [\n          \"Fire Department\",\n          \"DPW-Solid Waste\",\n          \"TRANS-Highways\"\n        ],\n        \"semantic_type\": \"\",\n        \"description\": \"\"\n      }\n    },\n    {\n      \"column\": \"HireDate\",\n      \"properties\": {\n        \"dtype\": \"date\",\n        \"min\": \"1979-06-11 00:00:00\",\n        \"max\": \"2008-08-18 00:00:00\",\n        \"num_unique_values\": 10,\n        \"samples\": [\n          \"1990-06-25 00:00:00\",\n          \"2008-08-18 00:00:00\",\n          \"2006-05-22 00:00:00\"\n        ],\n        \"semantic_type\": \"\",\n        \"description\": \"\"\n      }\n    },\n    {\n      \"column\": \"AnnualSalary\",\n      \"properties\": {\n        \"dtype\": \"number\",\n        \"std\": 20724.734787473422,\n        \"min\": 28059.0,\n        \"max\": 92200.0,\n        \"num_unique_values\": 10,\n        \"samples\": [\n          68717.0,\n          39853.0,\n          28059.0\n        ],\n        \"semantic_type\": \"\",\n        \"description\": \"\"\n      }\n    },\n    {\n      \"column\": \"GrossPay\",\n      \"properties\": {\n        \"dtype\": \"number\",\n        \"std\": 21779.877645257176,\n        \"min\": 25361.2,\n        \"max\": 80852.61,\n        \"num_unique_values\": 10,\n        \"samples\": [\n          73077.08,\n          39367.23,\n          25361.2\n        ],\n        \"semantic_type\": \"\",\n        \"description\": \"\"\n      }\n    }\n  ]\n}"
            }
          },
          "metadata": {},
          "execution_count": 10
        }
      ],
      "source": [
        "tiny_sample = salaries.sample(10)\n",
        "tiny_sample"
      ]
    },
    {
      "cell_type": "markdown",
      "metadata": {
        "id": "MUmEG6C1eZU9"
      },
      "source": [
        "The next cell creates an image"
      ]
    },
    {
      "cell_type": "code",
      "execution_count": 13,
      "metadata": {
        "colab": {
          "base_uri": "https://localhost:8080/",
          "height": 932
        },
        "id": "vty9p4IneZU-",
        "outputId": "22d3940a-355f-494c-9f44-52b8894cfab6"
      },
      "outputs": [
        {
          "output_type": "display_data",
          "data": {
            "text/plain": [
              "<Figure size 2000x1600 with 1 Axes>"
            ],
            "image/png": "[encoded data removed]"
          },
          "metadata": {}
        }
      ],
      "source": [
        "fig, ax = plt.subplots(figsize=(20,16))\n",
        "tiny_sample.plot.scatter(x='AnnualSalary', y='GrossPay', ax=ax)\n",
        "for name, details in tiny_sample.iterrows():\n",
        "    ax.annotate(text=name, xy=(details.AnnualSalary,details.GrossPay), xytext=(details.AnnualSalary+5000, details.GrossPay-5000),\n",
        "                arrowprops=dict(arrowstyle=\"-\", color='black')\n",
        "               )"
      ]
    },
    {
      "cell_type": "markdown",
      "metadata": {
        "id": "iT-vBuSkeZU-"
      },
      "source": [
        "Take that image, and open it in an editing tool that has a ruler tool.\n",
        "\n",
        "**Windows** You could use *Microsoft Paint* (type \"Paint\" in the start menu) or *Snipping Tool / Snip & Sketch* (Take a screenshot with Windows + Shift + S and then annotate directly on the captured image.)\n",
        "\n",
        "**macOS** Preview or Quick Look\n",
        "\n",
        "The next cell will give you a five random pairs of people to draw a line between. Draw them, and then **save the image into your\n",
        "github classroom repo so that we know that you've done it**."
      ]
    },
    {
      "cell_type": "code",
      "execution_count": 12,
      "metadata": {
        "colab": {
          "base_uri": "https://localhost:8080/"
        },
        "id": "r8wZoluLeZU-",
        "outputId": "2a12bf2b-8e11-484f-ec0b-6c5de20e91ac"
      },
      "outputs": [
        {
          "output_type": "stream",
          "name": "stdout",
          "text": [
            "\n",
            "Draw a line that goes through Taylor,Douglas S and Green,Kevin R. \n",
            "\n",
            "This should go through (68717.0,73077.08) and (49027.0,69421.25)\n",
            "\n",
            "It has a gradient (slope) of 0.1856693753174201\n",
            "\n",
            "-----------------------------\n",
            "\n",
            "\n",
            "Draw a line that goes through Green,Kevin R and Reyes,Sarah P. \n",
            "\n",
            "This should go through (49027.0,69421.25) and (31119.0,26580.66)\n",
            "\n",
            "It has a gradient (slope) of 2.3922598838507927\n",
            "\n",
            "-----------------------------\n",
            "\n",
            "\n",
            "Draw a line that goes through Cox,Kathryn L and Kemick,Sandra L. \n",
            "\n",
            "This should go through (67881.0,71305.6) and (92200.0,80852.61)\n",
            "\n",
            "It has a gradient (slope) of 0.3925741190016035\n",
            "\n",
            "-----------------------------\n",
            "\n",
            "\n",
            "Draw a line that goes through Winkler,Bryan K and Kemick,Sandra L. \n",
            "\n",
            "This should go through (39853.0,39367.23) and (92200.0,80852.61)\n",
            "\n",
            "It has a gradient (slope) of 0.7925073070089976\n",
            "\n",
            "-----------------------------\n",
            "\n",
            "\n",
            "Draw a line that goes through Williams,Clinton D and Reyes,Sarah P. \n",
            "\n",
            "This should go through (37511.0,31749.83) and (31119.0,26580.66)\n",
            "\n",
            "It has a gradient (slope) of 0.8086936795994997\n",
            "\n",
            "-----------------------------\n",
            "\n"
          ]
        }
      ],
      "source": [
        "for i in range(5):\n",
        "    pair = tiny_sample.sample(2)\n",
        "    first_name = pair.index[0]\n",
        "    second_name = pair.index[1]\n",
        "    print(f\"\"\"\n",
        "Draw a line that goes through {first_name} and {second_name}.\n",
        "\n",
        "This should go through ({pair.AnnualSalary.iloc[0]},{pair.GrossPay.iloc[0]}) and ({pair.AnnualSalary.iloc[1]},{pair.GrossPay.iloc[1]})\n",
        "\n",
        "It has a gradient (slope) of {(pair.GrossPay.iloc[1]-pair.GrossPay.iloc[0])/(pair.AnnualSalary.iloc[1]-pair.AnnualSalary.iloc[0])}\n",
        "\n",
        "-----------------------------\n",
        "\"\"\")"
      ]
    },
    {
      "cell_type": "markdown",
      "metadata": {
        "id": "dkqdFhbTeZU_"
      },
      "source": [
        "### Get an estimate\n",
        "\n",
        "Which was the \"middle\" slope line on your diagram? i.e. what was the median gradient?\n",
        "\n",
        "(Write it in the next cell so that we know you did it. Note that it's unlikely that two students will get the same answer.)"
      ]
    },
    {
      "cell_type": "markdown",
      "metadata": {
        "id": "10jFbVFUeZU_"
      },
      "source": [
        "Answer: 0.914340872955663"
      ]
    },
    {
      "cell_type": "markdown",
      "metadata": {
        "id": "Xth6bYJxeZU_"
      },
      "source": [
        "### A moment of reflection\n",
        "\n",
        "Does that mean that Baltimore employees typically get more pay than their salary, or less than their salary?\n",
        "\n",
        "(Write it in the next cell so that we know you did it. You might or might not have the same answer as your neighbour, but generally you will.)"
      ]
    },
    {
      "cell_type": "markdown",
      "metadata": {
        "id": "ET5dbVCqeZVA"
      },
      "source": [
        "Answer: 4 employees less than their salary, and one employee more than the salary.\n"
      ]
    },
    {
      "cell_type": "markdown",
      "metadata": {
        "id": "JQ4YUhajeZVA"
      },
      "source": [
        "# Data Splitting\n",
        "\n",
        "We need to have train, validation and test data. (We actually should have done that before we did our manual Theil-Sen algorithm.)"
      ]
    },
    {
      "cell_type": "code",
      "execution_count": 14,
      "metadata": {
        "id": "csDDkVBceZVB"
      },
      "outputs": [],
      "source": [
        "training_data, holdout_data = sklearn.model_selection.train_test_split(salaries, test_size=0.2)\n",
        "validation_data, test_data = sklearn.model_selection.train_test_split(holdout_data, test_size=0.5)"
      ]
    },
    {
      "cell_type": "code",
      "execution_count": 15,
      "metadata": {
        "colab": {
          "base_uri": "https://localhost:8080/"
        },
        "id": "qyEWSvU4eZVB",
        "outputId": "6ac7764c-becd-43d3-d746-5cfb0fdb8639"
      },
      "outputs": [
        {
          "output_type": "execute_result",
          "data": {
            "text/plain": [
              "((11563, 6), (1445, 6), (1446, 6))"
            ]
          },
          "metadata": {},
          "execution_count": 15
        }
      ],
      "source": [
        "training_data.shape, validation_data.shape, test_data.shape"
      ]
    },
    {
      "cell_type": "markdown",
      "metadata": {
        "id": "nS9s6q0GeZVB"
      },
      "source": [
        "# Scikit Learn Regression\n",
        "\n",
        "We'll follow the pattern we followed in the code from lectures:\n",
        "\n",
        "- Construct a Regressor object\n",
        "\n",
        "- `.fit()` it\n",
        "\n",
        "- Use it to `.predict()` the validation data\n",
        "\n",
        "- Look at the coefficients of the model (in this case, the gradient)."
      ]
    },
    {
      "cell_type": "markdown",
      "metadata": {
        "id": "3Oj8IQifeZVC"
      },
      "source": [
        "### Theil-Sen\n",
        "\n",
        "You just did a Theil-Sen regression by hand, and we saw one in class. Let's see how close your five-sample version was to a more complete computation."
      ]
    },
    {
      "cell_type": "code",
      "execution_count": 16,
      "metadata": {
        "colab": {
          "base_uri": "https://localhost:8080/"
        },
        "id": "Io39gwD9eZVC",
        "outputId": "16f3c0b3-100e-4f13-f203-a01ab07a571c"
      },
      "outputs": [
        {
          "output_type": "stream",
          "name": "stderr",
          "text": [
            "/usr/local/lib/python3.11/dist-packages/sklearn/linear_model/_theil_sen.py:128: ConvergenceWarning: Maximum number of iterations 300 reached in spatial median for TheilSen regressor.\n",
            "  warnings.warn(\n"
          ]
        },
        {
          "output_type": "execute_result",
          "data": {
            "text/plain": [
              "array([0.98553325])"
            ]
          },
          "metadata": {},
          "execution_count": 16
        }
      ],
      "source": [
        "ts = sklearn.linear_model.TheilSenRegressor()\n",
        "ts.fit(training_data[['AnnualSalary']], training_data['GrossPay'])\n",
        "ts_predictions = ts.predict(validation_data[['AnnualSalary']])\n",
        "ts.coef_"
      ]
    },
    {
      "cell_type": "markdown",
      "metadata": {
        "id": "bonXPpibeZVD"
      },
      "source": [
        "### RANSAC\n",
        "\n",
        "Let's use a RANSAC regressor. This was demonstrated in class. (Getting the coefficients for a RANSAC model is a little unusual: you ask for the best estimator, and then you ask for the coefficients of that best estimator."
      ]
    },
    {
      "cell_type": "code",
      "execution_count": 17,
      "metadata": {
        "colab": {
          "base_uri": "https://localhost:8080/"
        },
        "id": "e_S_Gx0SeZVD",
        "outputId": "3435c5b1-ffdd-489b-cfd2-8a19724832c1"
      },
      "outputs": [
        {
          "output_type": "execute_result",
          "data": {
            "text/plain": [
              "array([1.00852146])"
            ]
          },
          "metadata": {},
          "execution_count": 17
        }
      ],
      "source": [
        "ransac = sklearn.linear_model.RANSACRegressor()\n",
        "ransac.fit(training_data[['AnnualSalary']], training_data['GrossPay'])\n",
        "ransac_predictions = ransac.predict(validation_data[['AnnualSalary']])\n",
        "ransac.estimator_.coef_"
      ]
    },
    {
      "cell_type": "markdown",
      "metadata": {
        "id": "DNyTj40QeZVE"
      },
      "source": [
        "### Huber\n",
        "\n",
        "One of the best and most robust regressors is the Huber model. Finish off this code."
      ]
    },
    {
      "cell_type": "code",
      "execution_count": 20,
      "metadata": {
        "colab": {
          "base_uri": "https://localhost:8080/"
        },
        "id": "QiYyuAjAeZVF",
        "outputId": "01ea4b4b-bf27-4c79-c0d4-555986e5c9fa"
      },
      "outputs": [
        {
          "output_type": "execute_result",
          "data": {
            "text/plain": [
              "array([0.91146723])"
            ]
          },
          "metadata": {},
          "execution_count": 20
        }
      ],
      "source": [
        "huber = sklearn.linear_model.HuberRegressor()\n",
        "huber.fit(training_data[['AnnualSalary']], training_data['GrossPay'])\n",
        "huber_predictions = huber.predict(validation_data[['AnnualSalary']])\n",
        "huber.coef_\n"
      ]
    },
    {
      "cell_type": "markdown",
      "metadata": {
        "id": "OJk0DktNeZVG"
      },
      "source": [
        "### Ordinary Least Squares\n",
        "\n",
        "If you have done STAT1170 you might have encountered this choice for finding a line of best fit through some points.\n",
        "\n",
        "It is very common and popular, so the scikit learn class is called `LinearRegression()`\n",
        "\n",
        "Finish off this code:"
      ]
    },
    {
      "cell_type": "code",
      "execution_count": 54,
      "metadata": {
        "colab": {
          "base_uri": "https://localhost:8080/"
        },
        "id": "X8Wx0R55eZVH",
        "outputId": "0a916c43-3be6-459c-ffb1-60e34f6ac0ab"
      },
      "outputs": [
        {
          "output_type": "execute_result",
          "data": {
            "text/plain": [
              "array([1.01673643])"
            ]
          },
          "metadata": {},
          "execution_count": 54
        }
      ],
      "source": [
        "ols = sklearn.linear_model.LinearRegression()\n",
        "ols.fit(training_data[['AnnualSalary']], training_data['GrossPay'])\n",
        "ols_predictions = ols.predict(validation_data[['AnnualSalary']])\n",
        "ols.coef_\n"
      ]
    },
    {
      "cell_type": "markdown",
      "metadata": {
        "id": "phRs_tsaeZVH"
      },
      "source": [
        "# Evaluating these models\n",
        "\n",
        "How wrong were the predictions? We can subtract the prediction from the correct answer to look."
      ]
    },
    {
      "cell_type": "code",
      "execution_count": 55,
      "metadata": {
        "colab": {
          "base_uri": "https://localhost:8080/",
          "height": 475
        },
        "id": "rTMLxxbleZVI",
        "outputId": "21e6b5ae-39e9-4db6-87a2-c4195a63389f"
      },
      "outputs": [
        {
          "output_type": "execute_result",
          "data": {
            "text/plain": [
              "Name\n",
              "Johnson,Peter H            -61.763978\n",
              "Peters Jr,Glenn A        10477.050696\n",
              "Layne,Asha C             -1089.272453\n",
              "BPD 8                    11316.937726\n",
              "Turner,Jacqueline         9718.835682\n",
              "                             ...     \n",
              "Gierczak,Rebecca D      -15130.011157\n",
              "Baumgartner,Jessica L     1518.971504\n",
              "Stevenson,Anthony C      -1106.848696\n",
              "Carter,Jerome             2585.848410\n",
              "Melchior,George W         2371.798509\n",
              "Name: GrossPay, Length: 1445, dtype: float64"
            ],
            "text/html": [
              "<div>\n",
              "<style scoped>\n",
              "    .dataframe tbody tr th:only-of-type {\n",
              "        vertical-align: middle;\n",
              "    }\n",
              "\n",
              "    .dataframe tbody tr th {\n",
              "        vertical-align: top;\n",
              "    }\n",
              "\n",
              "    .dataframe thead th {\n",
              "        text-align: right;\n",
              "    }\n",
              "</style>\n",
              "<table border=\"1\" class=\"dataframe\">\n",
              "  <thead>\n",
              "    <tr style=\"text-align: right;\">\n",
              "      <th></th>\n",
              "      <th>GrossPay</th>\n",
              "    </tr>\n",
              "    <tr>\n",
              "      <th>Name</th>\n",
              "      <th></th>\n",
              "    </tr>\n",
              "  </thead>\n",
              "  <tbody>\n",
              "    <tr>\n",
              "      <th>Johnson,Peter H</th>\n",
              "      <td>-61.763978</td>\n",
              "    </tr>\n",
              "    <tr>\n",
              "      <th>Peters Jr,Glenn A</th>\n",
              "      <td>10477.050696</td>\n",
              "    </tr>\n",
              "    <tr>\n",
              "      <th>Layne,Asha C</th>\n",
              "      <td>-1089.272453</td>\n",
              "    </tr>\n",
              "    <tr>\n",
              "      <th>BPD 8</th>\n",
              "      <td>11316.937726</td>\n",
              "    </tr>\n",
              "    <tr>\n",
              "      <th>Turner,Jacqueline</th>\n",
              "      <td>9718.835682</td>\n",
              "    </tr>\n",
              "    <tr>\n",
              "      <th>...</th>\n",
              "      <td>...</td>\n",
              "    </tr>\n",
              "    <tr>\n",
              "      <th>Gierczak,Rebecca D</th>\n",
              "      <td>-15130.011157</td>\n",
              "    </tr>\n",
              "    <tr>\n",
              "      <th>Baumgartner,Jessica L</th>\n",
              "      <td>1518.971504</td>\n",
              "    </tr>\n",
              "    <tr>\n",
              "      <th>Stevenson,Anthony C</th>\n",
              "      <td>-1106.848696</td>\n",
              "    </tr>\n",
              "    <tr>\n",
              "      <th>Carter,Jerome</th>\n",
              "      <td>2585.848410</td>\n",
              "    </tr>\n",
              "    <tr>\n",
              "      <th>Melchior,George W</th>\n",
              "      <td>2371.798509</td>\n",
              "    </tr>\n",
              "  </tbody>\n",
              "</table>\n",
              "<p>1445 rows × 1 columns</p>\n",
              "</div><br><label><b>dtype:</b> float64</label>"
            ]
          },
          "metadata": {},
          "execution_count": 55
        }
      ],
      "source": [
        "validation_data.GrossPay - ts_predictions"
      ]
    },
    {
      "cell_type": "code",
      "execution_count": 56,
      "metadata": {
        "colab": {
          "base_uri": "https://localhost:8080/",
          "height": 475
        },
        "id": "cjimCOZPeZVJ",
        "outputId": "6ab098e1-15fc-4314-f379-e0a8c7f50636"
      },
      "outputs": [
        {
          "output_type": "execute_result",
          "data": {
            "text/plain": [
              "Name\n",
              "Johnson,Peter H           -618.529166\n",
              "Peters Jr,Glenn A         9251.213683\n",
              "Layne,Asha C             -2043.871587\n",
              "BPD 8                    10025.446387\n",
              "Turner,Jacqueline         9068.508483\n",
              "                             ...     \n",
              "Gierczak,Rebecca D      -15521.330204\n",
              "Baumgartner,Jessica L      328.950120\n",
              "Stevenson,Anthony C      -2201.606941\n",
              "Carter,Jerome             1880.027674\n",
              "Melchior,George W         1123.019264\n",
              "Name: GrossPay, Length: 1445, dtype: float64"
            ],
            "text/html": [
              "<div>\n",
              "<style scoped>\n",
              "    .dataframe tbody tr th:only-of-type {\n",
              "        vertical-align: middle;\n",
              "    }\n",
              "\n",
              "    .dataframe tbody tr th {\n",
              "        vertical-align: top;\n",
              "    }\n",
              "\n",
              "    .dataframe thead th {\n",
              "        text-align: right;\n",
              "    }\n",
              "</style>\n",
              "<table border=\"1\" class=\"dataframe\">\n",
              "  <thead>\n",
              "    <tr style=\"text-align: right;\">\n",
              "      <th></th>\n",
              "      <th>GrossPay</th>\n",
              "    </tr>\n",
              "    <tr>\n",
              "      <th>Name</th>\n",
              "      <th></th>\n",
              "    </tr>\n",
              "  </thead>\n",
              "  <tbody>\n",
              "    <tr>\n",
              "      <th>Johnson,Peter H</th>\n",
              "      <td>-618.529166</td>\n",
              "    </tr>\n",
              "    <tr>\n",
              "      <th>Peters Jr,Glenn A</th>\n",
              "      <td>9251.213683</td>\n",
              "    </tr>\n",
              "    <tr>\n",
              "      <th>Layne,Asha C</th>\n",
              "      <td>-2043.871587</td>\n",
              "    </tr>\n",
              "    <tr>\n",
              "      <th>BPD 8</th>\n",
              "      <td>10025.446387</td>\n",
              "    </tr>\n",
              "    <tr>\n",
              "      <th>Turner,Jacqueline</th>\n",
              "      <td>9068.508483</td>\n",
              "    </tr>\n",
              "    <tr>\n",
              "      <th>...</th>\n",
              "      <td>...</td>\n",
              "    </tr>\n",
              "    <tr>\n",
              "      <th>Gierczak,Rebecca D</th>\n",
              "      <td>-15521.330204</td>\n",
              "    </tr>\n",
              "    <tr>\n",
              "      <th>Baumgartner,Jessica L</th>\n",
              "      <td>328.950120</td>\n",
              "    </tr>\n",
              "    <tr>\n",
              "      <th>Stevenson,Anthony C</th>\n",
              "      <td>-2201.606941</td>\n",
              "    </tr>\n",
              "    <tr>\n",
              "      <th>Carter,Jerome</th>\n",
              "      <td>1880.027674</td>\n",
              "    </tr>\n",
              "    <tr>\n",
              "      <th>Melchior,George W</th>\n",
              "      <td>1123.019264</td>\n",
              "    </tr>\n",
              "  </tbody>\n",
              "</table>\n",
              "<p>1445 rows × 1 columns</p>\n",
              "</div><br><label><b>dtype:</b> float64</label>"
            ]
          },
          "metadata": {},
          "execution_count": 56
        }
      ],
      "source": [
        "validation_data.GrossPay - ransac_predictions"
      ]
    },
    {
      "cell_type": "markdown",
      "metadata": {
        "id": "K5Ulx4lgeZVJ"
      },
      "source": [
        "Now look at the data for your Huber regressor and your Ordinary Least Squares regressor. (Put the calculations into the next two cells.)"
      ]
    },
    {
      "cell_type": "code",
      "execution_count": 57,
      "metadata": {
        "colab": {
          "base_uri": "https://localhost:8080/",
          "height": 475
        },
        "id": "IoJ2gfT0eZVK",
        "outputId": "8901c377-93be-400e-b133-2b01cbff4c71"
      },
      "outputs": [
        {
          "output_type": "execute_result",
          "data": {
            "text/plain": [
              "Name\n",
              "Johnson,Peter H          -1712.218091\n",
              "Peters Jr,Glenn A        10982.288145\n",
              "Layne,Asha C             -1457.939994\n",
              "BPD 8                    12033.707733\n",
              "Turner,Jacqueline         8369.830278\n",
              "                             ...     \n",
              "Gierczak,Rebecca D      -17313.518428\n",
              "Baumgartner,Jessica L     1908.814091\n",
              "Stevenson,Anthony C      -1023.935702\n",
              "Carter,Jerome             1415.638382\n",
              "Melchior,George W         2950.953849\n",
              "Name: GrossPay, Length: 1445, dtype: float64"
            ],
            "text/html": [
              "<div>\n",
              "<style scoped>\n",
              "    .dataframe tbody tr th:only-of-type {\n",
              "        vertical-align: middle;\n",
              "    }\n",
              "\n",
              "    .dataframe tbody tr th {\n",
              "        vertical-align: top;\n",
              "    }\n",
              "\n",
              "    .dataframe thead th {\n",
              "        text-align: right;\n",
              "    }\n",
              "</style>\n",
              "<table border=\"1\" class=\"dataframe\">\n",
              "  <thead>\n",
              "    <tr style=\"text-align: right;\">\n",
              "      <th></th>\n",
              "      <th>GrossPay</th>\n",
              "    </tr>\n",
              "    <tr>\n",
              "      <th>Name</th>\n",
              "      <th></th>\n",
              "    </tr>\n",
              "  </thead>\n",
              "  <tbody>\n",
              "    <tr>\n",
              "      <th>Johnson,Peter H</th>\n",
              "      <td>-1712.218091</td>\n",
              "    </tr>\n",
              "    <tr>\n",
              "      <th>Peters Jr,Glenn A</th>\n",
              "      <td>10982.288145</td>\n",
              "    </tr>\n",
              "    <tr>\n",
              "      <th>Layne,Asha C</th>\n",
              "      <td>-1457.939994</td>\n",
              "    </tr>\n",
              "    <tr>\n",
              "      <th>BPD 8</th>\n",
              "      <td>12033.707733</td>\n",
              "    </tr>\n",
              "    <tr>\n",
              "      <th>Turner,Jacqueline</th>\n",
              "      <td>8369.830278</td>\n",
              "    </tr>\n",
              "    <tr>\n",
              "      <th>...</th>\n",
              "      <td>...</td>\n",
              "    </tr>\n",
              "    <tr>\n",
              "      <th>Gierczak,Rebecca D</th>\n",
              "      <td>-17313.518428</td>\n",
              "    </tr>\n",
              "    <tr>\n",
              "      <th>Baumgartner,Jessica L</th>\n",
              "      <td>1908.814091</td>\n",
              "    </tr>\n",
              "    <tr>\n",
              "      <th>Stevenson,Anthony C</th>\n",
              "      <td>-1023.935702</td>\n",
              "    </tr>\n",
              "    <tr>\n",
              "      <th>Carter,Jerome</th>\n",
              "      <td>1415.638382</td>\n",
              "    </tr>\n",
              "    <tr>\n",
              "      <th>Melchior,George W</th>\n",
              "      <td>2950.953849</td>\n",
              "    </tr>\n",
              "  </tbody>\n",
              "</table>\n",
              "<p>1445 rows × 1 columns</p>\n",
              "</div><br><label><b>dtype:</b> float64</label>"
            ]
          },
          "metadata": {},
          "execution_count": 57
        }
      ],
      "source": [
        "validation_data.GrossPay - huber_predictions"
      ]
    },
    {
      "cell_type": "code",
      "execution_count": 58,
      "metadata": {
        "colab": {
          "base_uri": "https://localhost:8080/",
          "height": 475
        },
        "id": "ToveYw2seZVL",
        "outputId": "cd523af9-c6aa-4894-f103-3d743f9a88b1"
      },
      "outputs": [
        {
          "output_type": "execute_result",
          "data": {
            "text/plain": [
              "Name\n",
              "Johnson,Peter H           -227.572076\n",
              "Peters Jr,Glenn A         9403.074056\n",
              "Layne,Asha C             -1795.082777\n",
              "BPD 8                    10153.844804\n",
              "Turner,Jacqueline         9426.030644\n",
              "                             ...     \n",
              "Gierczak,Rebecca D      -15071.249971\n",
              "Baumgartner,Jessica L      493.609418\n",
              "Stevenson,Anthony C      -2002.904806\n",
              "Carter,Jerome             2217.718896\n",
              "Melchior,George W         1266.681096\n",
              "Name: GrossPay, Length: 1445, dtype: float64"
            ],
            "text/html": [
              "<div>\n",
              "<style scoped>\n",
              "    .dataframe tbody tr th:only-of-type {\n",
              "        vertical-align: middle;\n",
              "    }\n",
              "\n",
              "    .dataframe tbody tr th {\n",
              "        vertical-align: top;\n",
              "    }\n",
              "\n",
              "    .dataframe thead th {\n",
              "        text-align: right;\n",
              "    }\n",
              "</style>\n",
              "<table border=\"1\" class=\"dataframe\">\n",
              "  <thead>\n",
              "    <tr style=\"text-align: right;\">\n",
              "      <th></th>\n",
              "      <th>GrossPay</th>\n",
              "    </tr>\n",
              "    <tr>\n",
              "      <th>Name</th>\n",
              "      <th></th>\n",
              "    </tr>\n",
              "  </thead>\n",
              "  <tbody>\n",
              "    <tr>\n",
              "      <th>Johnson,Peter H</th>\n",
              "      <td>-227.572076</td>\n",
              "    </tr>\n",
              "    <tr>\n",
              "      <th>Peters Jr,Glenn A</th>\n",
              "      <td>9403.074056</td>\n",
              "    </tr>\n",
              "    <tr>\n",
              "      <th>Layne,Asha C</th>\n",
              "      <td>-1795.082777</td>\n",
              "    </tr>\n",
              "    <tr>\n",
              "      <th>BPD 8</th>\n",
              "      <td>10153.844804</td>\n",
              "    </tr>\n",
              "    <tr>\n",
              "      <th>Turner,Jacqueline</th>\n",
              "      <td>9426.030644</td>\n",
              "    </tr>\n",
              "    <tr>\n",
              "      <th>...</th>\n",
              "      <td>...</td>\n",
              "    </tr>\n",
              "    <tr>\n",
              "      <th>Gierczak,Rebecca D</th>\n",
              "      <td>-15071.249971</td>\n",
              "    </tr>\n",
              "    <tr>\n",
              "      <th>Baumgartner,Jessica L</th>\n",
              "      <td>493.609418</td>\n",
              "    </tr>\n",
              "    <tr>\n",
              "      <th>Stevenson,Anthony C</th>\n",
              "      <td>-2002.904806</td>\n",
              "    </tr>\n",
              "    <tr>\n",
              "      <th>Carter,Jerome</th>\n",
              "      <td>2217.718896</td>\n",
              "    </tr>\n",
              "    <tr>\n",
              "      <th>Melchior,George W</th>\n",
              "      <td>1266.681096</td>\n",
              "    </tr>\n",
              "  </tbody>\n",
              "</table>\n",
              "<p>1445 rows × 1 columns</p>\n",
              "</div><br><label><b>dtype:</b> float64</label>"
            ]
          },
          "metadata": {},
          "execution_count": 58
        }
      ],
      "source": [
        "validation_data.GrossPay - ols_predictions"
      ]
    },
    {
      "cell_type": "markdown",
      "metadata": {
        "id": "93HYtbsweZVL"
      },
      "source": [
        "## Summarising how wrong they were\n",
        "\n",
        "Ideally, we'd like a number that says which one was the best. But choosing which way we calculate that number is a decision\n",
        "that reflects what we think is important. These are questions we might ask:\n",
        "\n",
        "- What's the most inaccurate prediction?\n",
        "\n",
        "- 99% of the time, the correct answer was within ____ of what we predicted?\n",
        "\n",
        "- On average, how far away from the right answer were we?\n"
      ]
    },
    {
      "cell_type": "markdown",
      "metadata": {
        "id": "lqpauUkNeZVM"
      },
      "source": [
        "Here's how to get the most inaccurate prediction for the Theil-Sen regressor. (The maximum of the absolute values of the error in our prediction.). In the following cells, do RANSAC, Huber and Ordinary Least Squares"
      ]
    },
    {
      "cell_type": "code",
      "execution_count": 25,
      "metadata": {
        "colab": {
          "base_uri": "https://localhost:8080/"
        },
        "id": "09mnpZJLeZVM",
        "outputId": "0ed20d7b-8e66-43df-eea8-39eedaf15cea"
      },
      "outputs": [
        {
          "output_type": "execute_result",
          "data": {
            "text/plain": [
              "88729.92996145954"
            ]
          },
          "metadata": {},
          "execution_count": 25
        }
      ],
      "source": [
        "(validation_data.GrossPay - ts_predictions).abs().max()"
      ]
    },
    {
      "cell_type": "code",
      "execution_count": 26,
      "metadata": {
        "colab": {
          "base_uri": "https://localhost:8080/"
        },
        "id": "A5pg3n_7eZVN",
        "outputId": "47304f0b-d110-4590-fc97-73722e1f7be8"
      },
      "outputs": [
        {
          "output_type": "execute_result",
          "data": {
            "text/plain": [
              "92321.20771297463"
            ]
          },
          "metadata": {},
          "execution_count": 26
        }
      ],
      "source": [
        "(validation_data.GrossPay - ransac_predictions).abs().max()"
      ]
    },
    {
      "cell_type": "code",
      "execution_count": 59,
      "metadata": {
        "colab": {
          "base_uri": "https://localhost:8080/"
        },
        "id": "eefnJ-NIeZVN",
        "outputId": "4f0e5bc6-4ab1-4f17-d998-fb5f58cbf613"
      },
      "outputs": [
        {
          "output_type": "execute_result",
          "data": {
            "text/plain": [
              "93014.65137755766"
            ]
          },
          "metadata": {},
          "execution_count": 59
        }
      ],
      "source": [
        "(validation_data.GrossPay - ols_predictions).abs().max() # the worst performance"
      ]
    },
    {
      "cell_type": "code",
      "source": [
        "(validation_data.GrossPay - huber_predictions).abs().max()"
      ],
      "metadata": {
        "colab": {
          "base_uri": "https://localhost:8080/"
        },
        "id": "GsurWnS4ncTr",
        "outputId": "188fef0f-c696-4dfe-ccdc-dd0eaa39163c"
      },
      "execution_count": 40,
      "outputs": [
        {
          "output_type": "execute_result",
          "data": {
            "text/plain": [
              "80603.44701124591"
            ]
          },
          "metadata": {},
          "execution_count": 40
        }
      ]
    },
    {
      "cell_type": "markdown",
      "metadata": {
        "id": "jSRAA1kPeZVN"
      },
      "source": [
        "(If you are ahead of the rest of the prac group and are waiting around idle, you could use `idxmax()` instead of `max()` to find out _which_ employee was most badly mis-predicted.)\n",
        "\n",
        "------"
      ]
    },
    {
      "cell_type": "markdown",
      "metadata": {
        "id": "gIG6ZIdjeZVO"
      },
      "source": [
        "99% of the predictions were wrong by less than this amount.... (fill in RANSAC, Huber and Ordinary Least Squares)"
      ]
    },
    {
      "cell_type": "code",
      "execution_count": 28,
      "metadata": {
        "colab": {
          "base_uri": "https://localhost:8080/"
        },
        "id": "BDtPHU7qeZVO",
        "outputId": "aee1f785-3b42-4cd5-f578-fc86e2241c01"
      },
      "outputs": [
        {
          "output_type": "execute_result",
          "data": {
            "text/plain": [
              "42105.53959748205"
            ]
          },
          "metadata": {},
          "execution_count": 28
        }
      ],
      "source": [
        "(validation_data.GrossPay - ts_predictions).abs().quantile(0.99)"
      ]
    },
    {
      "cell_type": "code",
      "execution_count": 29,
      "metadata": {
        "colab": {
          "base_uri": "https://localhost:8080/"
        },
        "id": "rM_Kq4KceZVP",
        "outputId": "b6e8a469-f74d-4465-f4f2-28841173c298"
      },
      "outputs": [
        {
          "output_type": "execute_result",
          "data": {
            "text/plain": [
              "42077.9723949944"
            ]
          },
          "metadata": {},
          "execution_count": 29
        }
      ],
      "source": [
        "(validation_data.GrossPay - ransac_predictions).abs().quantile(0.99)"
      ]
    },
    {
      "cell_type": "code",
      "execution_count": 30,
      "metadata": {
        "colab": {
          "base_uri": "https://localhost:8080/"
        },
        "id": "Pad6ar5xeZVP",
        "outputId": "e5d04f38-3247-4986-abdc-e9c0e4353b91"
      },
      "outputs": [
        {
          "output_type": "execute_result",
          "data": {
            "text/plain": [
              "40947.23457380865"
            ]
          },
          "metadata": {},
          "execution_count": 30
        }
      ],
      "source": [
        "(validation_data.GrossPay - huber_predictions).abs().quantile(0.99) # the smallest is bad performance"
      ]
    },
    {
      "cell_type": "code",
      "execution_count": 60,
      "metadata": {
        "colab": {
          "base_uri": "https://localhost:8080/"
        },
        "id": "-9Ccdbf5eZVP",
        "outputId": "a04b191f-3377-40ce-9881-82f98c4d161c"
      },
      "outputs": [
        {
          "output_type": "execute_result",
          "data": {
            "text/plain": [
              "42011.434936929894"
            ]
          },
          "metadata": {},
          "execution_count": 60
        }
      ],
      "source": [
        "(validation_data.GrossPay - ols_predictions).abs().quantile(0.99)"
      ]
    },
    {
      "cell_type": "markdown",
      "metadata": {
        "id": "fX1U9XZ1eZVQ"
      },
      "source": [
        "Here's how we could get the mean absolute error (how far we are away from the right answer on average). sklearn has many built-in functions for doing these sorts of calculations. (Fill in RANSAC, Huber and Ordinary Least Squares)."
      ]
    },
    {
      "cell_type": "code",
      "execution_count": 32,
      "metadata": {
        "colab": {
          "base_uri": "https://localhost:8080/"
        },
        "id": "SejeRHNReZVQ",
        "outputId": "3eb61048-3919-4fc9-ab11-489e1b467cb7"
      },
      "outputs": [
        {
          "output_type": "execute_result",
          "data": {
            "text/plain": [
              "6410.643589801701"
            ]
          },
          "metadata": {},
          "execution_count": 32
        }
      ],
      "source": [
        "sklearn.metrics.mean_absolute_error(validation_data.GrossPay, ts_predictions)"
      ]
    },
    {
      "cell_type": "code",
      "execution_count": 33,
      "metadata": {
        "colab": {
          "base_uri": "https://localhost:8080/"
        },
        "id": "z5aPRTYMeZVR",
        "outputId": "b303fb69-b102-466a-f02c-d6f094908cbc"
      },
      "outputs": [
        {
          "output_type": "execute_result",
          "data": {
            "text/plain": [
              "6403.087440906204"
            ]
          },
          "metadata": {},
          "execution_count": 33
        }
      ],
      "source": [
        "sklearn.metrics.mean_absolute_error(validation_data.GrossPay, ransac_predictions)"
      ]
    },
    {
      "cell_type": "code",
      "execution_count": 34,
      "metadata": {
        "colab": {
          "base_uri": "https://localhost:8080/"
        },
        "id": "ATkNPKijeZVR",
        "outputId": "0668182d-43ff-4dfc-bb75-cdc98a2a40b2"
      },
      "outputs": [
        {
          "output_type": "execute_result",
          "data": {
            "text/plain": [
              "6366.45506096992"
            ]
          },
          "metadata": {},
          "execution_count": 34
        }
      ],
      "source": [
        "sklearn.metrics.mean_absolute_error(validation_data.GrossPay, huber_predictions)"
      ]
    },
    {
      "cell_type": "code",
      "execution_count": 61,
      "metadata": {
        "colab": {
          "base_uri": "https://localhost:8080/"
        },
        "id": "Y2a2mwxbeZVR",
        "outputId": "0113a74d-edcb-42fe-dc2a-c1d972265b22"
      },
      "outputs": [
        {
          "output_type": "execute_result",
          "data": {
            "text/plain": [
              "6423.039860244817"
            ]
          },
          "metadata": {},
          "execution_count": 61
        }
      ],
      "source": [
        "sklearn.metrics.mean_absolute_error(validation_data.GrossPay, ols_predictions)"
      ]
    },
    {
      "cell_type": "markdown",
      "metadata": {
        "id": "XKJfu2b9eZVR"
      },
      "source": [
        "A very common measure (which you might have encountered in STAT1170 if you've done it) is the $R^2$ measure:"
      ]
    },
    {
      "cell_type": "code",
      "execution_count": 36,
      "metadata": {
        "colab": {
          "base_uri": "https://localhost:8080/"
        },
        "id": "jO2ziQHKeZVS",
        "outputId": "560bd6f7-afa1-4560-98f2-d709f38450b3"
      },
      "outputs": [
        {
          "output_type": "execute_result",
          "data": {
            "text/plain": [
              "0.7914049848811484"
            ]
          },
          "metadata": {},
          "execution_count": 36
        }
      ],
      "source": [
        "sklearn.metrics.r2_score(validation_data.GrossPay, ts_predictions)"
      ]
    },
    {
      "cell_type": "code",
      "execution_count": 37,
      "metadata": {
        "colab": {
          "base_uri": "https://localhost:8080/"
        },
        "id": "mgKmcqigeZVS",
        "outputId": "056be45c-46f8-47e1-80d7-2a8f0df089fe"
      },
      "outputs": [
        {
          "output_type": "execute_result",
          "data": {
            "text/plain": [
              "0.7918645102795319"
            ]
          },
          "metadata": {},
          "execution_count": 37
        }
      ],
      "source": [
        "sklearn.metrics.r2_score(validation_data.GrossPay, ransac_predictions)"
      ]
    },
    {
      "cell_type": "code",
      "execution_count": 38,
      "metadata": {
        "colab": {
          "base_uri": "https://localhost:8080/"
        },
        "id": "qg0SAzsDeZVT",
        "outputId": "293fd584-59e4-4877-d509-1f9a9377da89"
      },
      "outputs": [
        {
          "output_type": "execute_result",
          "data": {
            "text/plain": [
              "0.7859107367570852"
            ]
          },
          "metadata": {},
          "execution_count": 38
        }
      ],
      "source": [
        "sklearn.metrics.r2_score(validation_data.GrossPay, huber_predictions)"
      ]
    },
    {
      "cell_type": "code",
      "execution_count": 62,
      "metadata": {
        "colab": {
          "base_uri": "https://localhost:8080/"
        },
        "id": "sJWBdIRweZVT",
        "outputId": "c2f30d96-1776-4934-9e1d-ea1f3dda2907"
      },
      "outputs": [
        {
          "output_type": "execute_result",
          "data": {
            "text/plain": [
              "0.7919310020947115"
            ]
          },
          "metadata": {},
          "execution_count": 62
        }
      ],
      "source": [
        "sklearn.metrics.r2_score(validation_data.GrossPay, ols_predictions)"
      ]
    },
    {
      "cell_type": "markdown",
      "metadata": {
        "id": "1huLlsHUeZVT"
      },
      "source": [
        "## Time to choose!\n",
        "\n",
        "On the basis of the information you chose above, which regressor are you going to choose to use?\n",
        "\n",
        "Say which model you think is best, and the basis you chose for using it. (While there are some obviously wrong answers you can give here, there are many options for the \"right\" answer depending on your criteria for best.)"
      ]
    },
    {
      "cell_type": "markdown",
      "metadata": {
        "id": "aZA6THxSeZVU"
      },
      "source": [
        "_Answer_: Ransac is the best model"
      ]
    },
    {
      "cell_type": "markdown",
      "metadata": {
        "id": "OdVFyNoieZVU"
      },
      "source": [
        "### Evaluating it\n",
        "\n",
        "You don't want to run `.fit()` again, but you do want to run `.predict()` again, using the model that you chose in the last section,\n",
        "but this time using the test data. Call the variable that stores those predictions `test_predictions`."
      ]
    },
    {
      "cell_type": "code",
      "execution_count": 70,
      "metadata": {
        "id": "eea2RHZUeZVU"
      },
      "outputs": [],
      "source": [
        "test_predictions = ols.predict(test_data[['AnnualSalary']])"
      ]
    },
    {
      "cell_type": "code",
      "source": [
        "sklearn.metrics.mean_absolute_error(test_data.GrossPay,test_predictions)"
      ],
      "metadata": {
        "colab": {
          "base_uri": "https://localhost:8080/"
        },
        "id": "Kn3GMLFgp67u",
        "outputId": "b75750e0-0398-483b-ca68-9b60eb3735cf"
      },
      "execution_count": 81,
      "outputs": [
        {
          "output_type": "execute_result",
          "data": {
            "text/plain": [
              "6408.0945228870705"
            ]
          },
          "metadata": {},
          "execution_count": 81
        }
      ]
    },
    {
      "cell_type": "markdown",
      "metadata": {
        "id": "gTfY_9ZpeZVU"
      },
      "source": [
        "Using the measure that you thought was the most important --- the reason you chose that model over the others --- evaluate how good your chosen model is.\n",
        "\n",
        "i.e. if you thought $R^2$ score was the most important, you would copy that same metric calculation here, comparing `test_data.GrossPay` to `test_predictions`."
      ]
    },
    {
      "cell_type": "code",
      "execution_count": 82,
      "metadata": {
        "colab": {
          "base_uri": "https://localhost:8080/"
        },
        "id": "PNJ-YNuReZVV",
        "outputId": "3317c39a-dc52-4882-eb0a-0245f3763ae0"
      },
      "outputs": [
        {
          "output_type": "execute_result",
          "data": {
            "text/plain": [
              "0.7942241631060266"
            ]
          },
          "metadata": {},
          "execution_count": 82
        }
      ],
      "source": [
        "sklearn.metrics.r2_score(test_data.GrossPay, test_predictions)"
      ]
    },
    {
      "cell_type": "markdown",
      "metadata": {
        "id": "Y98qVQmKeZVV"
      },
      "source": [
        "# A completely different analysis\n",
        "\n",
        "Now imagine that you are the City of Baltimore's hiring manager. New employees regularly ask how much they are actually likely to earn given the salary to which they are about to agree.\n",
        "\n",
        "You don't want to give an answer that is too high because you might be putting the city at risk for a lawsuit for misrepresenting the job. On the other hand, you don't want to give an answer that's too low because the candidate might pass up on the job and work elsewhere.\n",
        "\n",
        "You decide that it will cost \\\\$0.05 in lawsuit risk for each dollar you overrepresent, but only \\\\$0.01 for each dollar you underrepresent.\n",
        "\n",
        "E.g., if a candidate is actually likely to earn \\\\$100,000 and you say \\\\$120,000, this is worth \\\\$10,000 in potential lawsuits for misrepresentation. If you say \\\\$80,000, then that will cost you \\$200 in potential recruiters' fees to find someone else.\n",
        "\n",
        "Here's a function that will calculate the cost of these predictions. Don't worry if it is too complicated for you to create\n",
        "by yourself right now, but see if you can make sense of how it works"
      ]
    },
    {
      "cell_type": "code",
      "execution_count": 75,
      "metadata": {
        "id": "QBlVtAJleZVV"
      },
      "outputs": [],
      "source": [
        "def cost(actuals, predictions):\n",
        "    cost = 0.0\n",
        "    for actual,prediction in zip(actuals, predictions):\n",
        "        if prediction > actual:\n",
        "            cost += 0.05 * (prediction - actual)\n",
        "        elif prediction < actual:\n",
        "            cost += 0.01 * (actual - prediction)\n",
        "        else:\n",
        "            cost += 0.0\n",
        "    return cost"
      ]
    },
    {
      "cell_type": "markdown",
      "metadata": {
        "id": "3koaGY4VeZVW"
      },
      "source": [
        "Here's how you would use it for the Theil-Sen predictions. Use it to calculate the cost of the RANSAC, Huber and Ordinary Least Squares Regressors."
      ]
    },
    {
      "cell_type": "code",
      "execution_count": 76,
      "metadata": {
        "colab": {
          "base_uri": "https://localhost:8080/"
        },
        "id": "cjE9ZiFteZVW",
        "outputId": "0fb14563-7e36-4dc5-e0e0-c440c6189594"
      },
      "outputs": [
        {
          "output_type": "execute_result",
          "data": {
            "text/plain": [
              "260927.64677766085"
            ]
          },
          "metadata": {},
          "execution_count": 76
        }
      ],
      "source": [
        "cost(validation_data['GrossPay'], ts_predictions)"
      ]
    },
    {
      "cell_type": "code",
      "execution_count": 77,
      "metadata": {
        "colab": {
          "base_uri": "https://localhost:8080/"
        },
        "id": "ZqHy5tXHeZVW",
        "outputId": "a514a582-11e1-4db9-80fa-c54bc0dae4af"
      },
      "outputs": [
        {
          "output_type": "execute_result",
          "data": {
            "text/plain": [
              "288665.89176035917"
            ]
          },
          "metadata": {},
          "execution_count": 77
        }
      ],
      "source": [
        "cost(validation_data['GrossPay'], ransac_predictions)"
      ]
    },
    {
      "cell_type": "code",
      "execution_count": 78,
      "metadata": {
        "colab": {
          "base_uri": "https://localhost:8080/"
        },
        "id": "0ETRIvJ_eZVX",
        "outputId": "f40358f1-32ba-4bd5-8c6d-da816902239f"
      },
      "outputs": [
        {
          "output_type": "execute_result",
          "data": {
            "text/plain": [
              "268126.84876523045"
            ]
          },
          "metadata": {},
          "execution_count": 78
        }
      ],
      "source": [
        "cost(validation_data['GrossPay'], huber_predictions)"
      ]
    },
    {
      "cell_type": "code",
      "execution_count": 79,
      "metadata": {
        "colab": {
          "base_uri": "https://localhost:8080/"
        },
        "id": "XXPCyuQseZVX",
        "outputId": "38d9689b-fb52-4dc1-b085-27da4174b4b5"
      },
      "outputs": [
        {
          "output_type": "execute_result",
          "data": {
            "text/plain": [
              "282511.6089569834"
            ]
          },
          "metadata": {},
          "execution_count": 79
        }
      ],
      "source": [
        "cost(validation_data['GrossPay'], ols_predictions)"
      ]
    },
    {
      "cell_type": "markdown",
      "metadata": {
        "id": "-o5UTSEHeZVX"
      },
      "source": [
        "Based on this, which of the models we created today model would be the best one to use for answering new employees' questions?"
      ]
    },
    {
      "cell_type": "markdown",
      "metadata": {
        "id": "sTEDtiB7eZVX"
      },
      "source": [
        "_Answer:_ ts_predictions is the best one.\n"
      ]
    },
    {
      "cell_type": "markdown",
      "metadata": {
        "id": "AXqc1f4MeZVY"
      },
      "source": [
        "# Very much optional, super-hard question\n",
        "\n",
        "If you are already familiar with Python programming, calculus or other data science concepts, try to find the optimal coefficients of a linear regression model which would minimise the hiring manager's regret."
      ]
    }
  ],
  "metadata": {
    "kernelspec": {
      "display_name": "Python 3 (ipykernel)",
      "language": "python",
      "name": "python3"
    },
    "language_info": {
      "codemirror_mode": {
        "name": "ipython",
        "version": 3
      },
      "file_extension": ".py",
      "mimetype": "text/x-python",
      "name": "python",
      "nbconvert_exporter": "python",
      "pygments_lexer": "ipython3",
      "version": "3.9.2"
    },
    "colab": {
      "provenance": [],
      "include_colab_link": true
    }
  },
  "nbformat": 4,
  "nbformat_minor": 0
}